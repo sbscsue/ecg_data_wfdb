{
 "cells": [
  {
   "cell_type": "code",
   "execution_count": 1,
   "metadata": {},
   "outputs": [],
   "source": [
    "import sys\n",
    "sys.path.append(\"C:\\\\sebin\\\\lab\\\\ecg2\\\\git\\\\ecg_data_wfdb\")"
   ]
  },
  {
   "cell_type": "code",
   "execution_count": 2,
   "metadata": {},
   "outputs": [],
   "source": [
    "from use.mitbih_ecg.form import ecg_segment "
   ]
  },
  {
   "cell_type": "code",
   "execution_count": 3,
   "metadata": {},
   "outputs": [],
   "source": [
    "import numpy as np \n",
    "import pandas as pd\n",
    "import os\n",
    "import matplotlib.pyplot as plt\n",
    "from os import listdir"
   ]
  },
  {
   "cell_type": "code",
   "execution_count": 5,
   "metadata": {},
   "outputs": [],
   "source": [
    "folderPath = \"C:\\\\sebin\\\\lab\\\\ecg2\\\\data\\\\original\\\\01_mitbih\""
   ]
  },
  {
   "cell_type": "markdown",
   "metadata": {},
   "source": [
    "---------------"
   ]
  },
  {
   "cell_type": "code",
   "execution_count": 115,
   "metadata": {},
   "outputs": [
    {
     "name": "stdout",
     "output_type": "stream",
     "text": [
      "113\n"
     ]
    }
   ],
   "source": [
    "ecg = ecg_segment(folderPath+\"\\\\\"+\"113\",ver ='aami',leftSegSize=360, rightSegSize=180)"
   ]
  },
  {
   "cell_type": "code",
   "execution_count": 116,
   "metadata": {},
   "outputs": [
    {
     "data": {
      "text/plain": [
       "{'record': array([-0.22 , -0.215, -0.195, -0.175, -0.165, -0.185, -0.19 , -0.195,\n",
       "        -0.195, -0.175, -0.17 , -0.16 , -0.17 , -0.19 , -0.175, -0.15 ,\n",
       "        -0.135, -0.14 , -0.135, -0.145, -0.13 , -0.115, -0.105, -0.1  ,\n",
       "        -0.1  , -0.115, -0.095, -0.06 , -0.05 , -0.055, -0.05 , -0.05 ,\n",
       "        -0.03 , -0.01 ,  0.   ,  0.015, -0.005,  0.025,  0.035,  0.06 ,\n",
       "         0.085,  0.105,  0.1  ,  0.11 ,  0.13 ,  0.17 ,  0.205,  0.215,\n",
       "         0.235,  0.25 ,  0.285,  0.305,  0.345,  0.36 ,  0.38 ,  0.395,\n",
       "         0.435,  0.46 ,  0.495,  0.515,  0.535,  0.54 ,  0.58 ,  0.625,\n",
       "         0.655,  0.67 ,  0.69 ,  0.7  ,  0.73 ,  0.75 ,  0.785,  0.805,\n",
       "         0.8  ,  0.795,  0.805,  0.81 ,  0.79 ,  0.76 ,  0.72 ,  0.675,\n",
       "         0.63 ,  0.58 ,  0.55 ,  0.48 ,  0.42 ,  0.335,  0.285,  0.23 ,\n",
       "         0.17 ,  0.105,  0.04 , -0.04 , -0.075, -0.1  , -0.135, -0.18 ,\n",
       "        -0.23 , -0.26 , -0.275, -0.28 , -0.27 , -0.295, -0.325, -0.355,\n",
       "        -0.35 , -0.35 , -0.35 , -0.37 , -0.39 , -0.395, -0.39 , -0.38 ,\n",
       "        -0.385, -0.38 , -0.41 , -0.41 , -0.415, -0.41 , -0.39 , -0.395,\n",
       "        -0.41 , -0.425, -0.415, -0.4  , -0.385, -0.395, -0.41 , -0.42 ,\n",
       "        -0.405, -0.4  , -0.39 , -0.4  , -0.405, -0.425, -0.43 , -0.395,\n",
       "        -0.395, -0.4  , -0.425, -0.42 , -0.425, -0.4  , -0.395, -0.395,\n",
       "        -0.405, -0.42 , -0.42 , -0.42 , -0.405, -0.41 , -0.41 , -0.43 ,\n",
       "        -0.42 , -0.405, -0.4  , -0.42 , -0.425, -0.435, -0.43 , -0.42 ,\n",
       "        -0.4  , -0.41 , -0.44 , -0.44 , -0.43 , -0.42 , -0.43 , -0.44 ,\n",
       "        -0.455, -0.455, -0.455, -0.435, -0.425, -0.44 , -0.455, -0.465,\n",
       "        -0.455, -0.445, -0.43 , -0.455, -0.47 , -0.47 , -0.465, -0.46 ,\n",
       "        -0.45 , -0.46 , -0.455, -0.465, -0.46 , -0.46 , -0.45 , -0.455,\n",
       "        -0.47 , -0.48 , -0.48 , -0.46 , -0.45 , -0.45 , -0.465, -0.47 ,\n",
       "        -0.47 , -0.455, -0.44 , -0.45 , -0.46 , -0.47 , -0.46 , -0.455,\n",
       "        -0.46 , -0.45 , -0.465, -0.48 , -0.465, -0.445, -0.445, -0.455,\n",
       "        -0.475, -0.465, -0.47 , -0.445, -0.45 , -0.455, -0.465, -0.475,\n",
       "        -0.45 , -0.455, -0.435, -0.455, -0.475, -0.47 , -0.46 , -0.46 ,\n",
       "        -0.45 , -0.44 , -0.47 , -0.45 , -0.455, -0.435, -0.43 , -0.43 ,\n",
       "        -0.445, -0.445, -0.455, -0.43 , -0.42 , -0.425, -0.45 , -0.445,\n",
       "        -0.445, -0.425, -0.425, -0.445, -0.43 , -0.46 , -0.435, -0.44 ,\n",
       "        -0.43 , -0.435, -0.445, -0.445, -0.435, -0.435, -0.43 , -0.425,\n",
       "        -0.45 , -0.445, -0.43 , -0.425, -0.42 , -0.425, -0.435, -0.435,\n",
       "        -0.435, -0.42 , -0.405, -0.425, -0.435, -0.44 , -0.425, -0.41 ,\n",
       "        -0.4  , -0.4  , -0.415, -0.425, -0.42 , -0.405, -0.4  , -0.415,\n",
       "        -0.415, -0.42 , -0.42 , -0.405, -0.39 , -0.405, -0.415, -0.405,\n",
       "        -0.405, -0.38 , -0.36 , -0.355, -0.36 , -0.36 , -0.335, -0.335,\n",
       "        -0.325, -0.325, -0.32 , -0.315, -0.31 , -0.305, -0.305, -0.305,\n",
       "        -0.325, -0.345, -0.33 , -0.31 , -0.315, -0.33 , -0.35 , -0.375,\n",
       "        -0.37 , -0.375, -0.37 , -0.365, -0.375, -0.395, -0.385, -0.37 ,\n",
       "        -0.35 , -0.365, -0.375, -0.385, -0.36 , -0.365, -0.36 , -0.35 ,\n",
       "        -0.365, -0.365, -0.355, -0.345, -0.33 , -0.325, -0.335, -0.335,\n",
       "        -0.325, -0.33 , -0.325, -0.355, -0.395, -0.435, -0.455, -0.43 ,\n",
       "        -0.36 , -0.24 ,  0.   ,  0.36 ,  0.85 ,  1.34 ,  1.73 ,  2.   ,\n",
       "         2.11 ,  2.015,  1.705,  1.065,  0.425, -0.215, -0.66 , -0.605,\n",
       "        -0.495, -0.45 , -0.465, -0.5  , -0.495, -0.48 , -0.44 , -0.38 ,\n",
       "        -0.315, -0.285, -0.27 , -0.265, -0.26 , -0.24 , -0.24 , -0.235,\n",
       "        -0.27 , -0.255, -0.255, -0.24 , -0.225, -0.22 , -0.235, -0.235,\n",
       "        -0.23 , -0.205, -0.21 , -0.2  , -0.215, -0.23 , -0.215, -0.2  ,\n",
       "        -0.2  , -0.2  , -0.21 , -0.19 , -0.19 , -0.185, -0.17 , -0.16 ,\n",
       "        -0.175, -0.18 , -0.155, -0.145, -0.14 , -0.14 , -0.165, -0.15 ,\n",
       "        -0.165, -0.14 , -0.13 , -0.125, -0.14 , -0.145, -0.135, -0.13 ,\n",
       "        -0.11 , -0.11 , -0.105, -0.1  , -0.1  , -0.07 , -0.05 , -0.045,\n",
       "        -0.055, -0.06 , -0.035, -0.02 ,  0.005,  0.01 ,  0.005,  0.005,\n",
       "         0.015,  0.055,  0.055,  0.075,  0.08 ,  0.09 ,  0.12 ,  0.135,\n",
       "         0.175,  0.185,  0.19 ,  0.19 ,  0.21 ,  0.255,  0.275,  0.31 ,\n",
       "         0.315,  0.34 ,  0.37 ,  0.415,  0.45 ,  0.475,  0.505,  0.525,\n",
       "         0.55 ,  0.605,  0.64 ,  0.665,  0.68 ,  0.69 ,  0.72 ,  0.77 ,\n",
       "         0.795,  0.805,  0.825,  0.84 ,  0.855,  0.88 ,  0.895,  0.86 ,\n",
       "         0.835,  0.82 ,  0.79 ,  0.76 ,  0.725,  0.665,  0.595,  0.515,\n",
       "         0.455,  0.395,  0.34 ,  0.28 ,  0.205,  0.125,  0.085,  0.05 ,\n",
       "         0.005, -0.065, -0.105, -0.135, -0.155, -0.17 , -0.175, -0.21 ,\n",
       "        -0.24 , -0.255, -0.255, -0.255, -0.265, -0.28 , -0.3  , -0.305,\n",
       "        -0.29 , -0.285, -0.29 , -0.305, -0.305, -0.335, -0.32 , -0.305,\n",
       "        -0.3  , -0.29 , -0.315, -0.315, -0.315, -0.305, -0.295, -0.305,\n",
       "        -0.31 , -0.315, -0.31 , -0.295, -0.29 , -0.3  , -0.305, -0.305,\n",
       "        -0.31 , -0.29 , -0.275, -0.29 ]),\n",
       " 'annotation': 'N'}"
      ]
     },
     "execution_count": 116,
     "metadata": {},
     "output_type": "execute_result"
    }
   ],
   "source": [
    "ecg.seg[0]"
   ]
  },
  {
   "cell_type": "code",
   "execution_count": 117,
   "metadata": {},
   "outputs": [
    {
     "data": {
      "text/plain": [
       "[<matplotlib.lines.Line2D at 0x27c5d540940>]"
      ]
     },
     "execution_count": 117,
     "metadata": {},
     "output_type": "execute_result"
    },
    {
     "data": {
      "image/png": "[encoded data removed]",
      "text/plain": [
       "<Figure size 432x288 with 1 Axes>"
      ]
     },
     "metadata": {
      "needs_background": "light"
     },
     "output_type": "display_data"
    }
   ],
   "source": [
    "plt.plot(ecg.seg[600]['record'])"
   ]
  },
  {
   "cell_type": "code",
   "execution_count": 118,
   "metadata": {},
   "outputs": [],
   "source": [
    "indexV = []\n",
    "for i in range(len(ecg.seg)):\n",
    "    if(ecg.seg[i]['annotation']==\"V\"):\n",
    "        indexV.append(i)"
   ]
  },
  {
   "cell_type": "code",
   "execution_count": 119,
   "metadata": {},
   "outputs": [],
   "source": [
    "indexS = []\n",
    "for i in range(len(ecg.seg)):\n",
    "    if(ecg.seg[i]['annotation']==\"S\"):\n",
    "        indexS.append(i)"
   ]
  },
  {
   "cell_type": "code",
   "execution_count": 120,
   "metadata": {},
   "outputs": [
    {
     "data": {
      "text/plain": [
       "[]"
      ]
     },
     "execution_count": 120,
     "metadata": {},
     "output_type": "execute_result"
    }
   ],
   "source": [
    "indexV"
   ]
  },
  {
   "cell_type": "code",
   "execution_count": 121,
   "metadata": {},
   "outputs": [
    {
     "data": {
      "text/plain": [
       "[22, 379, 392, 490, 1244, 1311]"
      ]
     },
     "execution_count": 121,
     "metadata": {},
     "output_type": "execute_result"
    }
   ],
   "source": [
    "indexS"
   ]
  },
  {
   "cell_type": "code",
   "execution_count": 106,
   "metadata": {},
   "outputs": [
    {
     "data": {
      "text/plain": [
       "[<matplotlib.lines.Line2D at 0x27c5ce29bb0>]"
      ]
     },
     "execution_count": 106,
     "metadata": {},
     "output_type": "execute_result"
    },
    {
     "data": {
      "image/png": "[encoded data removed]",
      "text/plain": [
       "<Figure size 432x288 with 1 Axes>"
      ]
     },
     "metadata": {
      "needs_background": "light"
     },
     "output_type": "display_data"
    }
   ],
   "source": [
    "plt.plot(ecg.seg[indexV[50]]['record'])"
   ]
  },
  {
   "cell_type": "code",
   "execution_count": 122,
   "metadata": {},
   "outputs": [
    {
     "data": {
      "text/plain": [
       "[<matplotlib.lines.Line2D at 0x27c5d47ed90>]"
      ]
     },
     "execution_count": 122,
     "metadata": {},
     "output_type": "execute_result"
    },
    {
     "data": {
      "image/png": "[encoded data removed]",
      "text/plain": [
       "<Figure size 432x288 with 1 Axes>"
      ]
     },
     "metadata": {
      "needs_background": "light"
     },
     "output_type": "display_data"
    }
   ],
   "source": [
    "plt.plot(ecg.seg[indexS[1]]['record'])"
   ]
  }
 ],
 "metadata": {
  "interpreter": {
   "hash": "a72bf8c18fe34c256e62d5a8e3c0753d9a1ad2892f47d3f35531e6326883f369"
  },
  "kernelspec": {
   "display_name": "Python 3.9.4 64-bit",
   "language": "python",
   "name": "python3"
  },
  "language_info": {
   "codemirror_mode": {
    "name": "ipython",
    "version": 3
   },
   "file_extension": ".py",
   "mimetype": "text/x-python",
   "name": "python",
   "nbconvert_exporter": "python",
   "pygments_lexer": "ipython3",
   "version": "3.9.4"
  },
  "orig_nbformat": 4
 },
 "nbformat": 4,
 "nbformat_minor": 2
}
