{
 "cells": [
  {
   "cell_type": "code",
   "execution_count": 1,
   "metadata": {},
   "outputs": [],
   "source": [
    "import numpy as np\n",
    "import pandas as pd\n",
    "import os\n",
    "import matplotlib.pyplot as plt"
   ]
  },
  {
   "cell_type": "code",
   "execution_count": 2,
   "metadata": {},
   "outputs": [],
   "source": [
    "import sys\n",
    "sys.path.append(\"C:\\\\sebin\\\\lab\\\\ecg2\\\\git\\\\ecg_data_wfdb\")"
   ]
  },
  {
   "cell_type": "code",
   "execution_count": 3,
   "metadata": {},
   "outputs": [],
   "source": [
    "from use.mitbih_ecg.form import ecg_segment "
   ]
  },
  {
   "cell_type": "markdown",
   "metadata": {},
   "source": [
    "-----"
   ]
  },
  {
   "cell_type": "code",
   "execution_count": 4,
   "metadata": {},
   "outputs": [],
   "source": [
    "path = \"C:\\\\sebin\\\\lab\\\\ecg2\\\\data\\\\original\\\\01_mitbih\""
   ]
  },
  {
   "cell_type": "code",
   "execution_count": 5,
   "metadata": {},
   "outputs": [],
   "source": [
    "files =[\n",
    "    [100,[0]],\n",
    "    [101,[0]],\n",
    "    [103,[0]],\n",
    "    [105,[0]],\n",
    "    [106,[0]],\n",
    "    [107,[0]],\n",
    "    [108,[0]],\n",
    "    [109,[0]],\n",
    "    [111,[0]],\n",
    "    [112,[0]],\n",
    "    [113,[0]],\n",
    "    [114,[1]],\n",
    "    [115,[0]],\n",
    "    [116,[0]],\n",
    "    [117,[0]],\n",
    "    [118,[0]],\n",
    "    [119,[0]],\n",
    "    [121,[0]],\n",
    "    [122,[0]],\n",
    "    [123,[0]],\n",
    "    [124,[0]],\n",
    "    [200,[0]],\n",
    "    [201,[0]],\n",
    "    [202,[0]],\n",
    "    [203,[0]],\n",
    "    [205,[0]],\n",
    "    [207,[0]],\n",
    "    [208,[0]],\n",
    "    [209,[0]],\n",
    "    [210,[0]],\n",
    "    [212,[0]],\n",
    "    [213,[0]],\n",
    "    [214,[0]],\n",
    "    [215,[0]],\n",
    "    [217,[0]],\n",
    "    [219,[0]],\n",
    "    [220,[0]],\n",
    "    [221,[0]],\n",
    "    [222,[0]],\n",
    "    [223,[0]],\n",
    "    [228,[0]],\n",
    "    [230,[0]],\n",
    "    [231,[0]],\n",
    "    [232,[0]],\n",
    "    [233,[0]],\n",
    "    [234,[0]],\n",
    "]"
   ]
  },
  {
   "cell_type": "code",
   "execution_count": 6,
   "metadata": {},
   "outputs": [
    {
     "name": "stdout",
     "output_type": "stream",
     "text": [
      "100\n",
      "tmp:  2274\n",
      "startIndex,endIndex:  1   2272\n",
      "seg:  2271\n",
      "interval:  2271\n",
      "startIndex:  9  \n",
      "seg,interval:  2262   2262\n"
     ]
    }
   ],
   "source": [
    "ecg = ecg_segment(path+\"\\\\\"+str(files[0][0]),channel=files[0][1],ver=\"aami\",baseLineRemoveFlag = 1, intervalN = 10 , leftSegSize=360,rightSegSize=180, resample_seg_size=-1,)"
   ]
  },
  {
   "cell_type": "code",
   "execution_count": 7,
   "metadata": {},
   "outputs": [
    {
     "name": "stdout",
     "output_type": "stream",
     "text": [
      "100\n",
      "tmp:  2274\n",
      "startIndex,endIndex:  None   2272\n",
      "seg:  2272\n",
      "interval:  2272\n",
      "startIndex:  10  \n",
      "seg,interval:  2262   2262\n"
     ]
    }
   ],
   "source": [
    "ecg = ecg_segment(path+\"\\\\\"+str(files[0][0]),channel=files[0][1],ver=\"aami\",baseLineRemoveFlag = 1, intervalN = 10 , leftSegSize=0,rightSegSize=180, resample_seg_size=-1,)"
   ]
  }
 ],
 "metadata": {
  "interpreter": {
   "hash": "a72bf8c18fe34c256e62d5a8e3c0753d9a1ad2892f47d3f35531e6326883f369"
  },
  "kernelspec": {
   "display_name": "Python 3.9.4 64-bit",
   "language": "python",
   "name": "python3"
  },
  "language_info": {
   "codemirror_mode": {
    "name": "ipython",
    "version": 3
   },
   "file_extension": ".py",
   "mimetype": "text/x-python",
   "name": "python",
   "nbconvert_exporter": "python",
   "pygments_lexer": "ipython3",
   "version": "3.9.4"
  },
  "orig_nbformat": 4
 },
 "nbformat": 4,
 "nbformat_minor": 2
}
