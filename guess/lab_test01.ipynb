{
 "cells": [
  {
   "cell_type": "code",
   "execution_count": 1,
   "source": [
    "import numpy as np\r\n",
    "import matplotlib.pyplot as plt\r\n",
    "import pandas as pd \r\n",
    "\r\n",
    "import tensorflow as tf\r\n",
    "import keras as kr\r\n",
    "from sklearn.model_selection import train_test_split\r\n",
    "\r\n",
    "import os \r\n",
    "from os import getcwd\r\n",
    "from os.path import dirname,abspath\r\n",
    "import pathlib as pl\r\n",
    "\r\n",
    "import sys\r\n",
    "\r\n",
    "home_path = \"C:\\\\sebin\\\\ecg\"\r\n",
    "git_path = home_path+\"\\\\ecg_data_wfdb\"\r\n",
    "\r\n",
    "sys.path.append(git_path)\r\n",
    "from use.segment.pick import random_ecg\r\n",
    "from use.segment.open import ecgtodf\r\n",
    "from use.tensor.input import x_tensor_input,y_tensor_input\r\n",
    "\r\n",
    "from sklearn.preprocessing import MinMaxScaler"
   ],
   "outputs": [],
   "metadata": {}
  },
  {
   "cell_type": "code",
   "execution_count": 2,
   "source": [
    "test_folder = home_path+\"\\\\save\"+\"\\\\\"+\"lab_data\"+\"\\\\\"+\"no_p\""
   ],
   "outputs": [],
   "metadata": {}
  },
  {
   "cell_type": "code",
   "execution_count": 3,
   "source": [
    "#ecgdf length 확인"
   ],
   "outputs": [],
   "metadata": {}
  },
  {
   "cell_type": "code",
   "execution_count": 4,
   "source": [
    "test_data = pd.DataFrame(ecgtodf(test_folder,288))"
   ],
   "outputs": [
    {
     "output_type": "stream",
     "name": "stdout",
     "text": [
      "0.csv\n",
      "1.csv\n",
      "10.csv\n",
      "11.csv\n",
      "12.csv\n",
      "13.csv\n",
      "14.csv\n",
      "15.csv\n",
      "16.csv\n",
      "17.csv\n",
      "18.csv\n",
      "19.csv\n",
      "2.csv\n",
      "20.csv\n",
      "21.csv\n",
      "22.csv\n",
      "23.csv\n",
      "24.csv\n",
      "25.csv\n",
      "26.csv\n",
      "27.csv\n",
      "28.csv\n",
      "29.csv\n",
      "3.csv\n",
      "30.csv\n",
      "31.csv\n",
      "32.csv\n",
      "33.csv\n",
      "34.csv\n",
      "35.csv\n",
      "36.csv\n",
      "37.csv\n",
      "38.csv\n",
      "39.csv\n",
      "4.csv\n",
      "40.csv\n",
      "41.csv\n",
      "42.csv\n",
      "43.csv\n",
      "44.csv\n",
      "45.csv\n",
      "46.csv\n",
      "47.csv\n",
      "48.csv\n",
      "49.csv\n",
      "5.csv\n",
      "50.csv\n",
      "51.csv\n",
      "52.csv\n",
      "53.csv\n",
      "54.csv\n",
      "55.csv\n",
      "56.csv\n",
      "57.csv\n",
      "58.csv\n",
      "59.csv\n",
      "6.csv\n",
      "60.csv\n",
      "61.csv\n",
      "62.csv\n",
      "63.csv\n",
      "64.csv\n",
      "65.csv\n",
      "66.csv\n",
      "67.csv\n",
      "68.csv\n",
      "69.csv\n",
      "7.csv\n",
      "70.csv\n",
      "71.csv\n",
      "72.csv\n",
      "73.csv\n",
      "74.csv\n",
      "75.csv\n",
      "76.csv\n",
      "77.csv\n",
      "78.csv\n",
      "79.csv\n",
      "8.csv\n",
      "80.csv\n",
      "9.csv\n"
     ]
    }
   ],
   "metadata": {}
  },
  {
   "cell_type": "code",
   "execution_count": 5,
   "source": [
    "test_data"
   ],
   "outputs": [
    {
     "output_type": "execute_result",
     "data": {
      "text/html": [
       "<div>\n",
       "<style scoped>\n",
       "    .dataframe tbody tr th:only-of-type {\n",
       "        vertical-align: middle;\n",
       "    }\n",
       "\n",
       "    .dataframe tbody tr th {\n",
       "        vertical-align: top;\n",
       "    }\n",
       "\n",
       "    .dataframe thead th {\n",
       "        text-align: right;\n",
       "    }\n",
       "</style>\n",
       "<table border=\"1\" class=\"dataframe\">\n",
       "  <thead>\n",
       "    <tr style=\"text-align: right;\">\n",
       "      <th></th>\n",
       "      <th>0</th>\n",
       "      <th>1</th>\n",
       "      <th>2</th>\n",
       "      <th>3</th>\n",
       "      <th>4</th>\n",
       "      <th>5</th>\n",
       "      <th>6</th>\n",
       "      <th>7</th>\n",
       "      <th>8</th>\n",
       "      <th>9</th>\n",
       "      <th>...</th>\n",
       "      <th>278</th>\n",
       "      <th>279</th>\n",
       "      <th>280</th>\n",
       "      <th>281</th>\n",
       "      <th>282</th>\n",
       "      <th>283</th>\n",
       "      <th>284</th>\n",
       "      <th>285</th>\n",
       "      <th>286</th>\n",
       "      <th>287</th>\n",
       "    </tr>\n",
       "  </thead>\n",
       "  <tbody>\n",
       "    <tr>\n",
       "      <th>0</th>\n",
       "      <td>1195.31</td>\n",
       "      <td>1195.31</td>\n",
       "      <td>1209.38</td>\n",
       "      <td>1209.38</td>\n",
       "      <td>1223.44</td>\n",
       "      <td>1209.38</td>\n",
       "      <td>1350.00</td>\n",
       "      <td>1335.94</td>\n",
       "      <td>1350.00</td>\n",
       "      <td>1364.06</td>\n",
       "      <td>...</td>\n",
       "      <td>1420.31</td>\n",
       "      <td>1420.31</td>\n",
       "      <td>1420.31</td>\n",
       "      <td>1420.31</td>\n",
       "      <td>1420.31</td>\n",
       "      <td>1406.25</td>\n",
       "      <td>1406.25</td>\n",
       "      <td>1406.25</td>\n",
       "      <td>1406.25</td>\n",
       "      <td>1406.25</td>\n",
       "    </tr>\n",
       "    <tr>\n",
       "      <th>1</th>\n",
       "      <td>1195.31</td>\n",
       "      <td>1181.25</td>\n",
       "      <td>1195.31</td>\n",
       "      <td>1209.38</td>\n",
       "      <td>1209.38</td>\n",
       "      <td>1293.75</td>\n",
       "      <td>1307.81</td>\n",
       "      <td>1321.88</td>\n",
       "      <td>1321.88</td>\n",
       "      <td>1335.94</td>\n",
       "      <td>...</td>\n",
       "      <td>1420.31</td>\n",
       "      <td>1420.31</td>\n",
       "      <td>1434.37</td>\n",
       "      <td>1448.44</td>\n",
       "      <td>1448.44</td>\n",
       "      <td>1420.31</td>\n",
       "      <td>1420.31</td>\n",
       "      <td>1420.31</td>\n",
       "      <td>1406.25</td>\n",
       "      <td>1420.31</td>\n",
       "    </tr>\n",
       "    <tr>\n",
       "      <th>2</th>\n",
       "      <td>1293.75</td>\n",
       "      <td>1307.81</td>\n",
       "      <td>1307.81</td>\n",
       "      <td>1307.81</td>\n",
       "      <td>1307.81</td>\n",
       "      <td>1293.75</td>\n",
       "      <td>1293.75</td>\n",
       "      <td>1307.81</td>\n",
       "      <td>1307.81</td>\n",
       "      <td>1307.81</td>\n",
       "      <td>...</td>\n",
       "      <td>1237.50</td>\n",
       "      <td>1237.50</td>\n",
       "      <td>1237.50</td>\n",
       "      <td>1251.56</td>\n",
       "      <td>1251.56</td>\n",
       "      <td>1251.56</td>\n",
       "      <td>1251.56</td>\n",
       "      <td>1265.62</td>\n",
       "      <td>1251.56</td>\n",
       "      <td>1265.62</td>\n",
       "    </tr>\n",
       "    <tr>\n",
       "      <th>3</th>\n",
       "      <td>1321.88</td>\n",
       "      <td>1321.88</td>\n",
       "      <td>1321.88</td>\n",
       "      <td>1321.88</td>\n",
       "      <td>1321.88</td>\n",
       "      <td>1321.88</td>\n",
       "      <td>1321.88</td>\n",
       "      <td>1335.94</td>\n",
       "      <td>1321.88</td>\n",
       "      <td>1335.94</td>\n",
       "      <td>...</td>\n",
       "      <td>1139.06</td>\n",
       "      <td>1153.12</td>\n",
       "      <td>1153.12</td>\n",
       "      <td>1167.19</td>\n",
       "      <td>1181.25</td>\n",
       "      <td>1181.25</td>\n",
       "      <td>1195.31</td>\n",
       "      <td>1195.31</td>\n",
       "      <td>1181.25</td>\n",
       "      <td>1181.25</td>\n",
       "    </tr>\n",
       "    <tr>\n",
       "      <th>4</th>\n",
       "      <td>1167.19</td>\n",
       "      <td>1167.19</td>\n",
       "      <td>1167.19</td>\n",
       "      <td>1181.25</td>\n",
       "      <td>1167.19</td>\n",
       "      <td>1167.19</td>\n",
       "      <td>1167.19</td>\n",
       "      <td>1181.25</td>\n",
       "      <td>1167.19</td>\n",
       "      <td>1181.25</td>\n",
       "      <td>...</td>\n",
       "      <td>1237.50</td>\n",
       "      <td>1237.50</td>\n",
       "      <td>1237.50</td>\n",
       "      <td>1251.56</td>\n",
       "      <td>1251.56</td>\n",
       "      <td>1251.56</td>\n",
       "      <td>1265.62</td>\n",
       "      <td>1265.62</td>\n",
       "      <td>1279.69</td>\n",
       "      <td>1293.75</td>\n",
       "    </tr>\n",
       "    <tr>\n",
       "      <th>...</th>\n",
       "      <td>...</td>\n",
       "      <td>...</td>\n",
       "      <td>...</td>\n",
       "      <td>...</td>\n",
       "      <td>...</td>\n",
       "      <td>...</td>\n",
       "      <td>...</td>\n",
       "      <td>...</td>\n",
       "      <td>...</td>\n",
       "      <td>...</td>\n",
       "      <td>...</td>\n",
       "      <td>...</td>\n",
       "      <td>...</td>\n",
       "      <td>...</td>\n",
       "      <td>...</td>\n",
       "      <td>...</td>\n",
       "      <td>...</td>\n",
       "      <td>...</td>\n",
       "      <td>...</td>\n",
       "      <td>...</td>\n",
       "      <td>...</td>\n",
       "    </tr>\n",
       "    <tr>\n",
       "      <th>76</th>\n",
       "      <td>1265.62</td>\n",
       "      <td>1265.62</td>\n",
       "      <td>1279.69</td>\n",
       "      <td>1279.69</td>\n",
       "      <td>1279.69</td>\n",
       "      <td>1265.62</td>\n",
       "      <td>1265.62</td>\n",
       "      <td>1279.69</td>\n",
       "      <td>1279.69</td>\n",
       "      <td>1279.69</td>\n",
       "      <td>...</td>\n",
       "      <td>1223.44</td>\n",
       "      <td>1223.44</td>\n",
       "      <td>1223.44</td>\n",
       "      <td>1237.50</td>\n",
       "      <td>1223.44</td>\n",
       "      <td>1237.50</td>\n",
       "      <td>1237.50</td>\n",
       "      <td>1237.50</td>\n",
       "      <td>1237.50</td>\n",
       "      <td>1237.50</td>\n",
       "    </tr>\n",
       "    <tr>\n",
       "      <th>77</th>\n",
       "      <td>1279.69</td>\n",
       "      <td>1279.69</td>\n",
       "      <td>1279.69</td>\n",
       "      <td>1293.75</td>\n",
       "      <td>1293.75</td>\n",
       "      <td>1279.69</td>\n",
       "      <td>1279.69</td>\n",
       "      <td>1279.69</td>\n",
       "      <td>1279.69</td>\n",
       "      <td>1293.75</td>\n",
       "      <td>...</td>\n",
       "      <td>1195.31</td>\n",
       "      <td>1209.38</td>\n",
       "      <td>1209.38</td>\n",
       "      <td>1209.38</td>\n",
       "      <td>1209.38</td>\n",
       "      <td>1209.38</td>\n",
       "      <td>1223.44</td>\n",
       "      <td>1223.44</td>\n",
       "      <td>1237.50</td>\n",
       "      <td>1237.50</td>\n",
       "    </tr>\n",
       "    <tr>\n",
       "      <th>78</th>\n",
       "      <td>1265.62</td>\n",
       "      <td>1265.62</td>\n",
       "      <td>1251.56</td>\n",
       "      <td>1251.56</td>\n",
       "      <td>1251.56</td>\n",
       "      <td>1265.62</td>\n",
       "      <td>1265.62</td>\n",
       "      <td>1265.62</td>\n",
       "      <td>1265.62</td>\n",
       "      <td>1265.62</td>\n",
       "      <td>...</td>\n",
       "      <td>1279.69</td>\n",
       "      <td>1279.69</td>\n",
       "      <td>1279.69</td>\n",
       "      <td>1293.75</td>\n",
       "      <td>1293.75</td>\n",
       "      <td>1307.81</td>\n",
       "      <td>1307.81</td>\n",
       "      <td>1293.75</td>\n",
       "      <td>1279.69</td>\n",
       "      <td>1293.75</td>\n",
       "    </tr>\n",
       "    <tr>\n",
       "      <th>79</th>\n",
       "      <td>1279.69</td>\n",
       "      <td>1279.69</td>\n",
       "      <td>1293.75</td>\n",
       "      <td>1279.69</td>\n",
       "      <td>1265.62</td>\n",
       "      <td>1279.69</td>\n",
       "      <td>1279.69</td>\n",
       "      <td>1279.69</td>\n",
       "      <td>1293.75</td>\n",
       "      <td>1279.69</td>\n",
       "      <td>...</td>\n",
       "      <td>1195.31</td>\n",
       "      <td>1181.25</td>\n",
       "      <td>1195.31</td>\n",
       "      <td>1209.38</td>\n",
       "      <td>1209.38</td>\n",
       "      <td>1209.38</td>\n",
       "      <td>1223.44</td>\n",
       "      <td>1223.44</td>\n",
       "      <td>1209.38</td>\n",
       "      <td>1223.44</td>\n",
       "    </tr>\n",
       "    <tr>\n",
       "      <th>80</th>\n",
       "      <td>1335.94</td>\n",
       "      <td>1335.94</td>\n",
       "      <td>1335.94</td>\n",
       "      <td>1335.94</td>\n",
       "      <td>1350.00</td>\n",
       "      <td>1350.00</td>\n",
       "      <td>1350.00</td>\n",
       "      <td>1335.94</td>\n",
       "      <td>1350.00</td>\n",
       "      <td>1335.94</td>\n",
       "      <td>...</td>\n",
       "      <td>1223.44</td>\n",
       "      <td>1223.44</td>\n",
       "      <td>1237.50</td>\n",
       "      <td>1251.56</td>\n",
       "      <td>1237.50</td>\n",
       "      <td>1237.50</td>\n",
       "      <td>1223.44</td>\n",
       "      <td>1237.50</td>\n",
       "      <td>1237.50</td>\n",
       "      <td>1251.56</td>\n",
       "    </tr>\n",
       "  </tbody>\n",
       "</table>\n",
       "<p>81 rows × 288 columns</p>\n",
       "</div>"
      ],
      "text/plain": [
       "        0        1        2        3        4        5        6        7    \\\n",
       "0   1195.31  1195.31  1209.38  1209.38  1223.44  1209.38  1350.00  1335.94   \n",
       "1   1195.31  1181.25  1195.31  1209.38  1209.38  1293.75  1307.81  1321.88   \n",
       "2   1293.75  1307.81  1307.81  1307.81  1307.81  1293.75  1293.75  1307.81   \n",
       "3   1321.88  1321.88  1321.88  1321.88  1321.88  1321.88  1321.88  1335.94   \n",
       "4   1167.19  1167.19  1167.19  1181.25  1167.19  1167.19  1167.19  1181.25   \n",
       "..      ...      ...      ...      ...      ...      ...      ...      ...   \n",
       "76  1265.62  1265.62  1279.69  1279.69  1279.69  1265.62  1265.62  1279.69   \n",
       "77  1279.69  1279.69  1279.69  1293.75  1293.75  1279.69  1279.69  1279.69   \n",
       "78  1265.62  1265.62  1251.56  1251.56  1251.56  1265.62  1265.62  1265.62   \n",
       "79  1279.69  1279.69  1293.75  1279.69  1265.62  1279.69  1279.69  1279.69   \n",
       "80  1335.94  1335.94  1335.94  1335.94  1350.00  1350.00  1350.00  1335.94   \n",
       "\n",
       "        8        9    ...      278      279      280      281      282  \\\n",
       "0   1350.00  1364.06  ...  1420.31  1420.31  1420.31  1420.31  1420.31   \n",
       "1   1321.88  1335.94  ...  1420.31  1420.31  1434.37  1448.44  1448.44   \n",
       "2   1307.81  1307.81  ...  1237.50  1237.50  1237.50  1251.56  1251.56   \n",
       "3   1321.88  1335.94  ...  1139.06  1153.12  1153.12  1167.19  1181.25   \n",
       "4   1167.19  1181.25  ...  1237.50  1237.50  1237.50  1251.56  1251.56   \n",
       "..      ...      ...  ...      ...      ...      ...      ...      ...   \n",
       "76  1279.69  1279.69  ...  1223.44  1223.44  1223.44  1237.50  1223.44   \n",
       "77  1279.69  1293.75  ...  1195.31  1209.38  1209.38  1209.38  1209.38   \n",
       "78  1265.62  1265.62  ...  1279.69  1279.69  1279.69  1293.75  1293.75   \n",
       "79  1293.75  1279.69  ...  1195.31  1181.25  1195.31  1209.38  1209.38   \n",
       "80  1350.00  1335.94  ...  1223.44  1223.44  1237.50  1251.56  1237.50   \n",
       "\n",
       "        283      284      285      286      287  \n",
       "0   1406.25  1406.25  1406.25  1406.25  1406.25  \n",
       "1   1420.31  1420.31  1420.31  1406.25  1420.31  \n",
       "2   1251.56  1251.56  1265.62  1251.56  1265.62  \n",
       "3   1181.25  1195.31  1195.31  1181.25  1181.25  \n",
       "4   1251.56  1265.62  1265.62  1279.69  1293.75  \n",
       "..      ...      ...      ...      ...      ...  \n",
       "76  1237.50  1237.50  1237.50  1237.50  1237.50  \n",
       "77  1209.38  1223.44  1223.44  1237.50  1237.50  \n",
       "78  1307.81  1307.81  1293.75  1279.69  1293.75  \n",
       "79  1209.38  1223.44  1223.44  1209.38  1223.44  \n",
       "80  1237.50  1223.44  1237.50  1237.50  1251.56  \n",
       "\n",
       "[81 rows x 288 columns]"
      ]
     },
     "metadata": {},
     "execution_count": 5
    }
   ],
   "metadata": {}
  },
  {
   "cell_type": "code",
   "execution_count": 6,
   "source": [
    "test_data.shape"
   ],
   "outputs": [
    {
     "output_type": "execute_result",
     "data": {
      "text/plain": [
       "(81, 288)"
      ]
     },
     "metadata": {},
     "execution_count": 6
    }
   ],
   "metadata": {}
  },
  {
   "cell_type": "code",
   "execution_count": 7,
   "source": [
    "def to_mixmax_tensor(x):\r\n",
    "    \r\n",
    "    record = x.to_numpy()\r\n",
    "    t_record = record.T\r\n",
    "\r\n",
    "    scaler = MinMaxScaler()\r\n",
    "    scaler.fit(t_record)\r\n",
    "\r\n",
    "    after_record = scaler.transform(t_record).T\r\n",
    "\r\n",
    "\r\n",
    "    record = pd.DataFrame(after_record)\r\n",
    "    x=x_tensor_input(record)\r\n",
    "\r\n",
    "\r\n",
    "    return x"
   ],
   "outputs": [],
   "metadata": {}
  },
  {
   "cell_type": "code",
   "execution_count": 8,
   "source": [
    "test_data = to_mixmax_tensor(test_data)"
   ],
   "outputs": [],
   "metadata": {}
  },
  {
   "cell_type": "code",
   "execution_count": 9,
   "source": [
    "print(test_data.shape)"
   ],
   "outputs": [
    {
     "output_type": "stream",
     "name": "stdout",
     "text": [
      "(81, 288, 1)\n"
     ]
    }
   ],
   "metadata": {}
  },
  {
   "cell_type": "code",
   "execution_count": 10,
   "source": [
    "test_data"
   ],
   "outputs": [
    {
     "output_type": "execute_result",
     "data": {
      "text/plain": [
       "array([[[0.05713957],\n",
       "        [0.05713957],\n",
       "        [0.06666847],\n",
       "        ...,\n",
       "        [0.19999865],\n",
       "        [0.19999865],\n",
       "        [0.19999865]],\n",
       "\n",
       "       [[0.04504337],\n",
       "        [0.03603598],\n",
       "        [0.04504337],\n",
       "        ...,\n",
       "        [0.18918728],\n",
       "        [0.18017989],\n",
       "        [0.18918728]],\n",
       "\n",
       "       [[0.13043613],\n",
       "        [0.13913022],\n",
       "        [0.13913022],\n",
       "        ...,\n",
       "        [0.11304176],\n",
       "        [0.10434766],\n",
       "        [0.11304176]],\n",
       "\n",
       "       ...,\n",
       "\n",
       "       [[0.12389085],\n",
       "        [0.12389085],\n",
       "        [0.11504286],\n",
       "        ...,\n",
       "        [0.14159314],\n",
       "        [0.13274514],\n",
       "        [0.14159314]],\n",
       "\n",
       "       [[0.12389637],\n",
       "        [0.12389637],\n",
       "        [0.13274431],\n",
       "        ...,\n",
       "        [0.0884983 ],\n",
       "        [0.07965036],\n",
       "        [0.0884983 ]],\n",
       "\n",
       "       [[0.11927036],\n",
       "        [0.11927036],\n",
       "        [0.11927036],\n",
       "        ...,\n",
       "        [0.05504886],\n",
       "        [0.05504886],\n",
       "        [0.0642215 ]]])"
      ]
     },
     "metadata": {},
     "execution_count": 10
    }
   ],
   "metadata": {}
  },
  {
   "cell_type": "code",
   "execution_count": 11,
   "source": [
    "test_data.shape"
   ],
   "outputs": [
    {
     "output_type": "execute_result",
     "data": {
      "text/plain": [
       "(81, 288, 1)"
      ]
     },
     "metadata": {},
     "execution_count": 11
    }
   ],
   "metadata": {}
  },
  {
   "cell_type": "code",
   "execution_count": 12,
   "source": [
    "model = kr.models.load_model(git_path+\"\\\\test\\\\02\\\\07\\\\model02.h5\")"
   ],
   "outputs": [],
   "metadata": {}
  },
  {
   "cell_type": "code",
   "execution_count": 13,
   "source": [
    "model.summary()"
   ],
   "outputs": [
    {
     "output_type": "stream",
     "name": "stdout",
     "text": [
      "Model: \"sequential\"\n",
      "_________________________________________________________________\n",
      "Layer (type)                 Output Shape              Param #   \n",
      "=================================================================\n",
      "conv1d (Conv1D)              (None, 286, 8)            32        \n",
      "_________________________________________________________________\n",
      "max_pooling1d (MaxPooling1D) (None, 143, 8)            0         \n",
      "_________________________________________________________________\n",
      "conv1d_1 (Conv1D)            (None, 141, 16)           400       \n",
      "_________________________________________________________________\n",
      "max_pooling1d_1 (MaxPooling1 (None, 70, 16)            0         \n",
      "_________________________________________________________________\n",
      "conv1d_2 (Conv1D)            (None, 68, 32)            1568      \n",
      "_________________________________________________________________\n",
      "max_pooling1d_2 (MaxPooling1 (None, 34, 32)            0         \n",
      "_________________________________________________________________\n",
      "conv1d_3 (Conv1D)            (None, 32, 32)            3104      \n",
      "_________________________________________________________________\n",
      "max_pooling1d_3 (MaxPooling1 (None, 16, 32)            0         \n",
      "_________________________________________________________________\n",
      "flatten (Flatten)            (None, 512)               0         \n",
      "_________________________________________________________________\n",
      "dense (Dense)                (None, 5)                 2565      \n",
      "=================================================================\n",
      "Total params: 7,669\n",
      "Trainable params: 7,669\n",
      "Non-trainable params: 0\n",
      "_________________________________________________________________\n"
     ]
    }
   ],
   "metadata": {}
  },
  {
   "cell_type": "code",
   "execution_count": 14,
   "source": [
    "plt.plot(test_data[0])"
   ],
   "outputs": [
    {
     "output_type": "execute_result",
     "data": {
      "text/plain": [
       "[<matplotlib.lines.Line2D at 0x225deeba040>]"
      ]
     },
     "metadata": {},
     "execution_count": 14
    },
    {
     "output_type": "display_data",
     "data": {
      "image/png": "[encoded data removed]",
      "text/plain": [
       "<Figure size 432x288 with 1 Axes>"
      ]
     },
     "metadata": {
      "needs_background": "light"
     }
    }
   ],
   "metadata": {}
  },
  {
   "cell_type": "code",
   "execution_count": 15,
   "source": [
    "predict = model.predict(test_data)"
   ],
   "outputs": [],
   "metadata": {}
  },
  {
   "cell_type": "code",
   "execution_count": 16,
   "source": [
    "print(predict)"
   ],
   "outputs": [
    {
     "output_type": "stream",
     "name": "stdout",
     "text": [
      "[[8.84269834e-01 1.08530233e-03 5.70007444e-07 1.14644378e-01\n",
      "  1.00990376e-20]\n",
      " [6.75885333e-03 3.41853523e-03 1.04074124e-02 9.79415178e-01\n",
      "  1.64377748e-13]\n",
      " [9.99999285e-01 4.34591300e-07 2.15035328e-07 6.12682385e-08\n",
      "  1.24232939e-20]\n",
      " [9.99999523e-01 1.76380127e-07 3.19427187e-08 3.34547281e-07\n",
      "  3.58853891e-20]\n",
      " [9.99994755e-01 5.23799326e-06 6.23444019e-10 2.27893846e-08\n",
      "  6.53076916e-22]\n",
      " [9.99498606e-01 1.28269685e-05 4.82851814e-04 5.78942490e-06\n",
      "  5.20528216e-18]\n",
      " [9.99999881e-01 1.02897445e-07 4.21843502e-08 2.97737817e-08\n",
      "  6.04249430e-22]\n",
      " [9.99998689e-01 5.24692041e-07 3.40813671e-07 3.97575462e-07\n",
      "  1.49443064e-19]\n",
      " [9.99994874e-01 5.07411778e-06 9.37262179e-09 4.77045958e-09\n",
      "  1.46412180e-21]\n",
      " [9.99999642e-01 3.03838789e-07 7.92248489e-09 3.46101592e-10\n",
      "  8.51590533e-25]\n",
      " [9.99999881e-01 5.21329611e-08 2.77053029e-08 8.24006676e-08\n",
      "  3.07629827e-20]\n",
      " [9.99999642e-01 3.42742283e-07 5.75025396e-08 2.57920814e-08\n",
      "  7.66341317e-21]\n",
      " [1.46962032e-02 4.42611473e-03 9.62042034e-01 1.88356210e-02\n",
      "  1.14356934e-15]\n",
      " [9.99999166e-01 4.10201523e-07 1.35518420e-07 3.30346666e-07\n",
      "  1.02852206e-19]\n",
      " [9.99999523e-01 4.70099877e-07 1.75387882e-08 4.40127685e-08\n",
      "  1.26494980e-19]\n",
      " [9.99999046e-01 8.86118016e-07 6.57997834e-09 1.38343088e-08\n",
      "  1.92455242e-21]\n",
      " [9.99999285e-01 7.19583397e-08 6.37370533e-07 5.17171657e-08\n",
      "  6.58340836e-20]\n",
      " [9.99957442e-01 2.49368113e-05 3.00661554e-06 1.46633556e-05\n",
      "  3.20553813e-19]\n",
      " [9.99999523e-01 1.44624238e-07 4.50704052e-09 2.85836791e-07\n",
      "  9.23517362e-20]\n",
      " [9.99999404e-01 5.89752631e-07 1.48693879e-09 2.88675639e-09\n",
      "  1.44343463e-25]\n",
      " [9.99999762e-01 8.78319000e-08 7.85984682e-08 3.16475699e-08\n",
      "  4.04880918e-21]\n",
      " [9.99997020e-01 2.80923973e-06 5.43207079e-08 1.32217352e-07\n",
      "  1.13077218e-19]\n",
      " [9.99999046e-01 5.66055405e-07 3.85325109e-07 5.82408397e-08\n",
      "  4.87880173e-21]\n",
      " [3.71762753e-01 6.28237247e-01 5.37206226e-08 6.79154111e-09\n",
      "  3.71616974e-22]\n",
      " [9.99999762e-01 1.67918998e-07 2.91629476e-08 7.18489304e-08\n",
      "  2.00109046e-20]\n",
      " [9.99999285e-01 7.26887947e-07 3.26178551e-08 5.24115729e-09\n",
      "  1.85523424e-22]\n",
      " [9.99999762e-01 3.75897287e-08 9.50221946e-08 5.01184694e-08\n",
      "  2.92886803e-21]\n",
      " [9.99999046e-01 6.02428941e-07 1.29791445e-07 2.53211169e-07\n",
      "  1.55498853e-19]\n",
      " [9.99994397e-01 3.90515333e-06 1.17667651e-06 4.51911603e-07\n",
      "  3.21677777e-20]\n",
      " [9.99998689e-01 9.20997593e-07 4.94563501e-08 3.31906193e-07\n",
      "  1.45255190e-19]\n",
      " [9.99999762e-01 2.74005913e-07 1.47118651e-09 2.04377582e-09\n",
      "  2.56939822e-23]\n",
      " [9.99992967e-01 3.23906238e-06 2.15228579e-06 1.68561814e-06\n",
      "  6.04730653e-18]\n",
      " [9.99999046e-01 8.50672450e-07 2.07240731e-08 9.13080171e-08\n",
      "  2.91875106e-20]\n",
      " [9.99998569e-01 1.27190413e-06 9.51820667e-08 6.76082195e-08\n",
      "  2.37151518e-20]\n",
      " [9.99798596e-01 2.00371738e-04 1.04534945e-06 8.80926621e-09\n",
      "  1.22940029e-19]\n",
      " [9.99999881e-01 1.52938824e-07 2.70528275e-08 8.96446917e-09\n",
      "  1.15374560e-21]\n",
      " [9.99999642e-01 3.11410076e-07 9.42323286e-09 1.96778007e-08\n",
      "  9.13959775e-21]\n",
      " [9.99999046e-01 9.37325069e-07 9.59242019e-09 1.39637581e-08\n",
      "  1.19342382e-21]\n",
      " [9.99999404e-01 5.44950012e-07 1.99865315e-08 2.84485004e-08\n",
      "  1.28742528e-20]\n",
      " [9.99998808e-01 1.13534929e-06 2.19204797e-08 6.65268161e-08\n",
      "  4.67727904e-21]\n",
      " [9.99994397e-01 5.49697415e-06 3.24725704e-08 9.00933443e-08\n",
      "  2.13707385e-19]\n",
      " [9.99997973e-01 1.99899932e-06 1.08331548e-08 2.07664974e-09\n",
      "  1.05212548e-25]\n",
      " [9.99997020e-01 2.41881457e-06 2.29634992e-07 3.58032196e-07\n",
      "  1.17408685e-19]\n",
      " [9.99999166e-01 6.89844342e-07 7.38321546e-08 2.50850771e-08\n",
      "  7.76315467e-21]\n",
      " [9.99998927e-01 8.95958010e-07 7.66334125e-08 3.53224259e-08\n",
      "  8.77568554e-22]\n",
      " [9.99999523e-01 5.00576789e-07 1.91015737e-08 1.39660825e-08\n",
      "  1.70693615e-26]\n",
      " [9.99999523e-01 3.41936470e-07 8.30624014e-09 1.22276248e-07\n",
      "  1.02457124e-19]\n",
      " [9.99999762e-01 2.00263102e-07 3.86942745e-09 5.41110134e-09\n",
      "  2.10847683e-26]\n",
      " [9.99999404e-01 4.04003856e-07 6.26721501e-08 1.05464395e-07\n",
      "  7.77637987e-20]\n",
      " [9.99999881e-01 1.51985589e-07 1.30207543e-08 7.81629517e-09\n",
      "  1.56189549e-22]\n",
      " [9.99999642e-01 2.32439319e-07 1.99595274e-08 1.00757774e-07\n",
      "  1.02191654e-20]\n",
      " [9.99999404e-01 6.19958030e-07 8.83073703e-09 5.08508080e-09\n",
      "  1.50642407e-25]\n",
      " [9.99999285e-01 6.53722338e-07 2.26442047e-08 6.66827233e-08\n",
      "  1.94318087e-20]\n",
      " [9.99998450e-01 1.41004341e-06 1.69792944e-08 8.98309978e-08\n",
      "  5.50935084e-21]\n",
      " [9.99999881e-01 1.02957912e-07 2.34708857e-08 9.81297887e-09\n",
      "  9.50207573e-23]\n",
      " [9.99999881e-01 1.46914829e-07 4.50056525e-09 8.29088975e-09\n",
      "  4.03269961e-22]\n",
      " [9.99998927e-01 7.57819009e-07 1.24113527e-07 2.06372604e-07\n",
      "  9.81265167e-20]\n",
      " [9.99999642e-01 3.62817786e-07 6.23258334e-09 6.59445654e-09\n",
      "  1.85015596e-27]\n",
      " [9.99999881e-01 8.32410549e-08 7.10177916e-09 7.16026847e-08\n",
      "  2.31551199e-21]\n",
      " [9.99999404e-01 5.88155785e-07 1.41902348e-08 4.22009059e-08\n",
      "  9.19684770e-21]\n",
      " [9.99998927e-01 3.86378559e-07 2.37226672e-07 4.07756716e-07\n",
      "  7.98109932e-20]\n",
      " [9.99998450e-01 1.44868352e-06 1.34571849e-07 9.79519932e-09\n",
      "  3.12358973e-23]\n",
      " [9.99999762e-01 1.83144365e-07 1.30942723e-08 7.53582299e-08\n",
      "  5.15864848e-22]\n",
      " [9.99999762e-01 2.92639015e-07 1.23935076e-08 4.12435330e-09\n",
      "  9.65509834e-23]\n",
      " [9.99999642e-01 3.23818654e-07 5.45203260e-09 2.85550037e-08\n",
      "  1.65586233e-22]\n",
      " [9.99995947e-01 3.76128605e-06 1.92992609e-08 2.73746025e-07\n",
      "  1.77308442e-20]\n",
      " [9.99999642e-01 2.08970974e-07 1.09769811e-08 9.45434664e-08\n",
      "  1.06952224e-20]\n",
      " [9.99999523e-01 4.10357785e-07 1.78013977e-08 3.68599977e-08\n",
      "  1.91672833e-21]\n",
      " [9.99999166e-01 8.22801894e-07 7.85236143e-09 1.24165220e-08\n",
      "  1.42576896e-25]\n",
      " [9.99998808e-01 1.09125824e-06 6.18601037e-09 9.39551938e-08\n",
      "  9.96108988e-21]\n",
      " [9.99999285e-01 5.85752105e-07 1.32619924e-08 8.64137633e-08\n",
      "  1.24359476e-21]\n",
      " [9.99998450e-01 1.46455159e-06 8.23899793e-09 4.57241960e-08\n",
      "  3.99720718e-22]\n",
      " [9.99995828e-01 3.68572250e-06 6.85009072e-09 4.66249048e-07\n",
      "  6.40368695e-19]\n",
      " [9.99999881e-01 1.32342251e-07 1.44785328e-09 3.17262461e-09\n",
      "  3.85082747e-25]\n",
      " [9.99999881e-01 5.25023722e-08 2.16445017e-09 8.61643130e-08\n",
      "  2.90309517e-21]\n",
      " [9.99999762e-01 1.77032348e-07 1.24856143e-08 1.07784999e-07\n",
      "  1.22222988e-20]\n",
      " [9.99998569e-01 1.40672739e-06 2.53099373e-08 3.05018517e-08\n",
      "  3.56609881e-21]\n",
      " [9.99999523e-01 2.32591844e-07 8.35516758e-08 7.28379632e-08\n",
      "  7.26515640e-21]\n",
      " [9.99998212e-01 1.77817776e-06 6.31739461e-09 1.78858119e-08\n",
      "  2.16984823e-21]\n",
      " [9.99999762e-01 1.57857116e-07 3.04432235e-09 2.82663990e-08\n",
      "  4.77131793e-21]\n",
      " [9.99999881e-01 6.28151895e-08 9.01302322e-09 7.87275098e-08\n",
      "  1.20806901e-20]]\n"
     ]
    }
   ],
   "metadata": {}
  },
  {
   "cell_type": "code",
   "execution_count": 17,
   "source": [
    "output = []"
   ],
   "outputs": [],
   "metadata": {}
  },
  {
   "cell_type": "code",
   "execution_count": 18,
   "source": [
    "plt.plot(test_data[1])"
   ],
   "outputs": [
    {
     "output_type": "execute_result",
     "data": {
      "text/plain": [
       "[<matplotlib.lines.Line2D at 0x225e62c9850>]"
      ]
     },
     "metadata": {},
     "execution_count": 18
    },
    {
     "output_type": "display_data",
     "data": {
      "image/png": "[encoded data removed]",
      "text/plain": [
       "<Figure size 432x288 with 1 Axes>"
      ]
     },
     "metadata": {
      "needs_background": "light"
     }
    }
   ],
   "metadata": {}
  },
  {
   "cell_type": "code",
   "execution_count": 19,
   "source": [
    "plt.plot(predict[1])"
   ],
   "outputs": [
    {
     "output_type": "execute_result",
     "data": {
      "text/plain": [
       "[<matplotlib.lines.Line2D at 0x225e7340a00>]"
      ]
     },
     "metadata": {},
     "execution_count": 19
    },
    {
     "output_type": "display_data",
     "data": {
      "image/png": "[encoded data removed]",
      "text/plain": [
       "<Figure size 432x288 with 1 Axes>"
      ]
     },
     "metadata": {
      "needs_background": "light"
     }
    }
   ],
   "metadata": {}
  },
  {
   "cell_type": "code",
   "execution_count": 20,
   "source": [
    "for i in range(len(predict)):\r\n",
    "    if np.argmax(predict[i])!=0:\r\n",
    "        print(i,np.argmax(predict[i]))\r\n",
    "    \r\n",
    "    output.append(np.argmax(predict[i]))"
   ],
   "outputs": [
    {
     "output_type": "stream",
     "name": "stdout",
     "text": [
      "1 3\n",
      "12 2\n",
      "23 1\n"
     ]
    }
   ],
   "metadata": {}
  },
  {
   "cell_type": "code",
   "execution_count": 21,
   "source": [
    "plt.plot(output,\"o\")"
   ],
   "outputs": [
    {
     "output_type": "execute_result",
     "data": {
      "text/plain": [
       "[<matplotlib.lines.Line2D at 0x225e73ae820>]"
      ]
     },
     "metadata": {},
     "execution_count": 21
    },
    {
     "output_type": "display_data",
     "data": {
      "image/png": "[encoded data removed]",
      "text/plain": [
       "<Figure size 432x288 with 1 Axes>"
      ]
     },
     "metadata": {
      "needs_background": "light"
     }
    }
   ],
   "metadata": {}
  },
  {
   "cell_type": "code",
   "execution_count": 22,
   "source": [
    "plt.subplot(5,1,1)\r\n",
    "plt.plot(test_data[3])\r\n",
    "plt.subplot(5,1,2)\r\n",
    "plt.plot(test_data[80])\r\n",
    "plt.subplot(5,1,3)\r\n",
    "plt.plot(test_data[30])\r\n",
    "plt.subplot(5,1,4)\r\n",
    "plt.plot(test_data[45])\r\n",
    "plt.subplot(5,1,5)\r\n",
    "plt.plot(test_data[51])\r\n"
   ],
   "outputs": [
    {
     "output_type": "execute_result",
     "data": {
      "text/plain": [
       "[<matplotlib.lines.Line2D at 0x225e7512fd0>]"
      ]
     },
     "metadata": {},
     "execution_count": 22
    },
    {
     "output_type": "display_data",
     "data": {
      "image/png": "[encoded data removed]",
      "text/plain": [
       "<Figure size 432x288 with 5 Axes>"
      ]
     },
     "metadata": {
      "needs_background": "light"
     }
    }
   ],
   "metadata": {}
  },
  {
   "cell_type": "code",
   "execution_count": 23,
   "source": [
    "plt.plot(test_data[3])"
   ],
   "outputs": [
    {
     "output_type": "execute_result",
     "data": {
      "text/plain": [
       "[<matplotlib.lines.Line2D at 0x225e75a8ee0>]"
      ]
     },
     "metadata": {},
     "execution_count": 23
    },
    {
     "output_type": "display_data",
     "data": {
      "image/png": "[encoded data removed]",
      "text/plain": [
       "<Figure size 432x288 with 1 Axes>"
      ]
     },
     "metadata": {
      "needs_background": "light"
     }
    }
   ],
   "metadata": {}
  },
  {
   "cell_type": "code",
   "execution_count": 24,
   "source": [
    "plt.plot(test_data[1])"
   ],
   "outputs": [
    {
     "output_type": "execute_result",
     "data": {
      "text/plain": [
       "[<matplotlib.lines.Line2D at 0x225e75af9d0>]"
      ]
     },
     "metadata": {},
     "execution_count": 24
    },
    {
     "output_type": "display_data",
     "data": {
      "image/png": "[encoded data removed]",
      "text/plain": [
       "<Figure size 432x288 with 1 Axes>"
      ]
     },
     "metadata": {
      "needs_background": "light"
     }
    }
   ],
   "metadata": {}
  },
  {
   "cell_type": "code",
   "execution_count": 25,
   "source": [
    "plt.plot(test_data[12])"
   ],
   "outputs": [
    {
     "output_type": "execute_result",
     "data": {
      "text/plain": [
       "[<matplotlib.lines.Line2D at 0x225e7698d60>]"
      ]
     },
     "metadata": {},
     "execution_count": 25
    },
    {
     "output_type": "display_data",
     "data": {
      "image/png": "[encoded data removed]",
      "text/plain": [
       "<Figure size 432x288 with 1 Axes>"
      ]
     },
     "metadata": {
      "needs_background": "light"
     }
    }
   ],
   "metadata": {}
  },
  {
   "cell_type": "code",
   "execution_count": 26,
   "source": [
    "plt.plot(test_data[23])"
   ],
   "outputs": [
    {
     "output_type": "execute_result",
     "data": {
      "text/plain": [
       "[<matplotlib.lines.Line2D at 0x225e7704730>]"
      ]
     },
     "metadata": {},
     "execution_count": 26
    },
    {
     "output_type": "display_data",
     "data": {
      "image/png": "[encoded data removed]",
      "text/plain": [
       "<Figure size 432x288 with 1 Axes>"
      ]
     },
     "metadata": {
      "needs_background": "light"
     }
    }
   ],
   "metadata": {}
  },
  {
   "cell_type": "code",
   "execution_count": 27,
   "source": [
    "for i in range(5):\r\n",
    "    print(output.count(i))"
   ],
   "outputs": [
    {
     "output_type": "stream",
     "name": "stdout",
     "text": [
      "78\n",
      "1\n",
      "1\n",
      "1\n",
      "0\n"
     ]
    }
   ],
   "metadata": {}
  }
 ],
 "metadata": {
  "orig_nbformat": 4,
  "language_info": {
   "name": "python",
   "version": "3.9.4",
   "mimetype": "text/x-python",
   "codemirror_mode": {
    "name": "ipython",
    "version": 3
   },
   "pygments_lexer": "ipython3",
   "nbconvert_exporter": "python",
   "file_extension": ".py"
  },
  "kernelspec": {
   "name": "python3",
   "display_name": "Python 3.9.4 64-bit"
  },
  "interpreter": {
   "hash": "a72bf8c18fe34c256e62d5a8e3c0753d9a1ad2892f47d3f35531e6326883f369"
  }
 },
 "nbformat": 4,
 "nbformat_minor": 2
}