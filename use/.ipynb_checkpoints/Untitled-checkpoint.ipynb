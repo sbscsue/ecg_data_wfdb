{
 "cells": [
  {
   "cell_type": "code",
   "execution_count": 1,
   "id": "7307b0d8",
   "metadata": {},
   "outputs": [],
   "source": [
    "import numpy as np\n",
    "import matplotlib.pyplot as plt\n",
    "import pandas as pd \n",
    "\n",
    "import os \n",
    "import pickle \n",
    "\n",
    "root = \"Z:\\KIMSEBIN\\deep\\output\""
   ]
  },
  {
   "cell_type": "code",
   "execution_count": 2,
   "id": "f75ec954",
   "metadata": {},
   "outputs": [],
   "source": [
    "N = 0\n",
    "S = 0\n",
    "V = 0\n",
    "F = 0\n",
    "Q = 0"
   ]
  },
  {
   "cell_type": "code",
   "execution_count": null,
   "id": "2c0e5d41",
   "metadata": {},
   "outputs": [],
   "source": [
    "number_ecg_data = os.\n",
    "for i in range(len())"
   ]
  }
 ],
 "metadata": {
  "kernelspec": {
   "display_name": "Python 3",
   "language": "python",
   "name": "python3"
  },
  "language_info": {
   "codemirror_mode": {
    "name": "ipython",
    "version": 3
   },
   "file_extension": ".py",
   "mimetype": "text/x-python",
   "name": "python",
   "nbconvert_exporter": "python",
   "pygments_lexer": "ipython3",
   "version": "3.8.8"
  }
 },
 "nbformat": 4,
 "nbformat_minor": 5
}
