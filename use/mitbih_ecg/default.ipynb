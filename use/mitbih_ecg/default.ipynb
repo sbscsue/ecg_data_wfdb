{
 "cells": [
  {
   "cell_type": "code",
   "execution_count": 1,
   "metadata": {},
   "outputs": [],
   "source": [
    "import wfdb"
   ]
  },
  {
   "cell_type": "code",
   "execution_count": 4,
   "metadata": {},
   "outputs": [
    {
     "name": "stdout",
     "output_type": "stream",
     "text": [
      "    label_store symbol                                    description\n",
      "0             0                              Not an actual annotation\n",
      "1             1      N                                    Normal beat\n",
      "2             2      L                  Left bundle branch block beat\n",
      "3             3      R                 Right bundle branch block beat\n",
      "4             4      a                Aberrated atrial premature beat\n",
      "5             5      V              Premature ventricular contraction\n",
      "6             6      F          Fusion of ventricular and normal beat\n",
      "7             7      J              Nodal (junctional) premature beat\n",
      "8             8      A                   Atrial premature contraction\n",
      "9             9      S     Premature or ectopic supraventricular beat\n",
      "10           10      E                        Ventricular escape beat\n",
      "11           11      j                 Nodal (junctional) escape beat\n",
      "12           12      /                                     Paced beat\n",
      "13           13      Q                            Unclassifiable beat\n",
      "14           14      ~                          Signal quality change\n",
      "16           16      |                     Isolated QRS-like artifact\n",
      "18           18      s                                      ST change\n",
      "19           19      T                                  T-wave change\n",
      "20           20      *                                        Systole\n",
      "21           21      D                                       Diastole\n",
      "22           22      \"                             Comment annotation\n",
      "23           23      =                         Measurement annotation\n",
      "24           24      p                                    P-wave peak\n",
      "25           25      B              Left or right bundle branch block\n",
      "26           26      ^                      Non-conducted pacer spike\n",
      "27           27      t                                    T-wave peak\n",
      "28           28      +                                  Rhythm change\n",
      "29           29      u                                    U-wave peak\n",
      "30           30      ?                                       Learning\n",
      "31           31      !                       Ventricular flutter wave\n",
      "32           32      [      Start of ventricular flutter/fibrillation\n",
      "33           33      ]        End of ventricular flutter/fibrillation\n",
      "34           34      e                             Atrial escape beat\n",
      "35           35      n                   Supraventricular escape beat\n",
      "36           36      @  Link to external data (aux_note contains URL)\n",
      "37           37      x             Non-conducted P-wave (blocked APB)\n",
      "38           38      f                Fusion of paced and normal beat\n",
      "39           39      (                                 Waveform onset\n",
      "40           40      )                                   Waveform end\n",
      "41           41      r       R-on-T premature ventricular contraction\n"
     ]
    }
   ],
   "source": [
    "wfdb.show_ann_labels()"
   ]
  }
 ],
 "metadata": {
  "interpreter": {
   "hash": "a72bf8c18fe34c256e62d5a8e3c0753d9a1ad2892f47d3f35531e6326883f369"
  },
  "kernelspec": {
   "display_name": "Python 3.9.4 64-bit",
   "language": "python",
   "name": "python3"
  },
  "language_info": {
   "codemirror_mode": {
    "name": "ipython",
    "version": 3
   },
   "file_extension": ".py",
   "mimetype": "text/x-python",
   "name": "python",
   "nbconvert_exporter": "python",
   "pygments_lexer": "ipython3",
   "version": "3.9.4"
  },
  "orig_nbformat": 4
 },
 "nbformat": 4,
 "nbformat_minor": 2
}
