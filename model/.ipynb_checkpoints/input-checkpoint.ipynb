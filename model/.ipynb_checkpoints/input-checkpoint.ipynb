{
 "cells": [
  {
   "cell_type": "code",
   "execution_count": 2,
   "id": "8676175b",
   "metadata": {},
   "outputs": [],
   "source": [
    "import os\n",
    "import pickle\n",
    "\n",
    "import numpy as np\n",
    "import matplotlib.pyplot as plt\n",
    "import pandas as pd \n",
    "\n",
    "import keras\n",
    "import tensorflow\n",
    "\n",
    "import wfdb "
   ]
  },
  {
   "cell_type": "code",
   "execution_count": 3,
   "id": "aff477cd",
   "metadata": {},
   "outputs": [],
   "source": [
    "#data input"
   ]
  },
  {
   "cell_type": "code",
   "execution_count": null,
   "id": "cc6aad2b",
   "metadata": {},
   "outputs": [],
   "source": [
    "dir = \"Z:\\KIMSEBIN\\deep\\learning\\data\"\n"
   ]
  }
 ],
 "metadata": {
  "kernelspec": {
   "display_name": "Python 3",
   "language": "python",
   "name": "python3"
  },
  "language_info": {
   "codemirror_mode": {
    "name": "ipython",
    "version": 3
   },
   "file_extension": ".py",
   "mimetype": "text/x-python",
   "name": "python",
   "nbconvert_exporter": "python",
   "pygments_lexer": "ipython3",
   "version": "3.8.8"
  }
 },
 "nbformat": 4,
 "nbformat_minor": 5
}
