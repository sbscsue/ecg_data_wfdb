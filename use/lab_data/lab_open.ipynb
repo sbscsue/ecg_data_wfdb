{
 "cells": [
  {
   "cell_type": "code",
   "execution_count": 1,
   "source": [
    "import matplotlib.pyplot as plt\r\n",
    "import scipy as sc\r\n",
    "import neurokit2 as nk\r\n",
    "from scipy.signal import decimate \r\n",
    "\r\n",
    "import numpy as np\r\n",
    "import pandas as pd\r\n",
    "\r\n",
    "import os"
   ],
   "outputs": [],
   "metadata": {}
  },
  {
   "cell_type": "code",
   "execution_count": 2,
   "source": [
    "#1.data path"
   ],
   "outputs": [],
   "metadata": {}
  },
  {
   "cell_type": "code",
   "execution_count": 3,
   "source": [
    "home_path = \"C:\\\\sebin\\\\ecg\"\r\n",
    "git_path = home_path+\"\\\\ecg_data_wfdb\"\r\n",
    "\r\n",
    "file_path = home_path+\"\\\\data\\\\lab\\\\ecg.txt\"\r\n",
    "output_path = home_path+\"\\\\save\\\\lab_data\"\r\n"
   ],
   "outputs": [],
   "metadata": {}
  },
  {
   "cell_type": "code",
   "execution_count": 4,
   "source": [
    "#2.data open"
   ],
   "outputs": [],
   "metadata": {}
  },
  {
   "cell_type": "code",
   "execution_count": 5,
   "source": [
    "data = []"
   ],
   "outputs": [],
   "metadata": {}
  },
  {
   "cell_type": "code",
   "execution_count": 6,
   "source": [
    "with open(file_path,'r') as f:\r\n",
    "    cnt = 0\r\n",
    "\r\n",
    "    f.readline()\r\n",
    "    date_time = f.readline()\r\n",
    "\r\n",
    "    while(True):\r\n",
    "        line = f.readline()\r\n",
    "        if  line == '':\r\n",
    "            break\r\n",
    "        data.extend(line.rstrip().split(\"  \"))\r\n",
    "        cnt+=1\r\n"
   ],
   "outputs": [],
   "metadata": {}
  },
  {
   "cell_type": "code",
   "execution_count": 7,
   "source": [
    "n = len(data)\r\n",
    "for i in range(n):\r\n",
    "    data[i] = float(data[i])"
   ],
   "outputs": [],
   "metadata": {}
  },
  {
   "cell_type": "code",
   "execution_count": 8,
   "source": [
    "# +check data"
   ],
   "outputs": [],
   "metadata": {}
  },
  {
   "cell_type": "code",
   "execution_count": 9,
   "source": [
    "resampling = 28\r\n",
    "print(n)"
   ],
   "outputs": [
    {
     "output_type": "stream",
     "name": "stdout",
     "text": [
      "699548\n"
     ]
    }
   ],
   "metadata": {}
  },
  {
   "cell_type": "code",
   "execution_count": 10,
   "source": [
    "re_n = n//28\r\n",
    "print(re_n)"
   ],
   "outputs": [
    {
     "output_type": "stream",
     "name": "stdout",
     "text": [
      "24983\n"
     ]
    }
   ],
   "metadata": {}
  },
  {
   "cell_type": "code",
   "execution_count": 11,
   "source": [
    "#3. resampling"
   ],
   "outputs": [],
   "metadata": {}
  },
  {
   "cell_type": "code",
   "execution_count": 12,
   "source": [
    "re_data = []\r\n",
    "for i in range(re_n):\r\n",
    "    re_data.append(data[i*resampling])"
   ],
   "outputs": [],
   "metadata": {}
  },
  {
   "cell_type": "code",
   "execution_count": 13,
   "source": [
    "# + index"
   ],
   "outputs": [],
   "metadata": {}
  },
  {
   "cell_type": "code",
   "execution_count": 14,
   "source": [
    "index = 5"
   ],
   "outputs": [],
   "metadata": {}
  },
  {
   "cell_type": "code",
   "execution_count": 15,
   "source": [
    "#4. plot(default,downsampling)"
   ],
   "outputs": [],
   "metadata": {}
  },
  {
   "cell_type": "code",
   "execution_count": 16,
   "source": [
    "plt.subplot(3,1,1)\r\n",
    "plt.plot(data)\r\n",
    "\r\n",
    "plt.subplot(3,1,2)\r\n",
    "plt.plot(re_data)"
   ],
   "outputs": [
    {
     "output_type": "execute_result",
     "data": {
      "text/plain": [
       "[<matplotlib.lines.Line2D at 0x221daf1e5e0>]"
      ]
     },
     "metadata": {},
     "execution_count": 16
    },
    {
     "output_type": "display_data",
     "data": {
      "image/png": "[encoded data removed]",
      "text/plain": [
       "<Figure size 432x288 with 2 Axes>"
      ]
     },
     "metadata": {
      "needs_background": "light"
     }
    }
   ],
   "metadata": {}
  },
  {
   "cell_type": "code",
   "execution_count": 17,
   "source": [
    "#5.  get peak and peak y_value"
   ],
   "outputs": [],
   "metadata": {}
  },
  {
   "cell_type": "code",
   "execution_count": 18,
   "source": [
    "peak = nk.ecg.ecg_findpeaks(re_data, sampling_rate=360, method='neurokit')\r\n",
    "peak = np.array(peak['ECG_R_Peaks'])"
   ],
   "outputs": [],
   "metadata": {}
  },
  {
   "cell_type": "code",
   "execution_count": 19,
   "source": [
    "peak_y = np.zeros(re_n)\r\n",
    "for i in peak:\r\n",
    "    peak_y[i] = re_data[i]"
   ],
   "outputs": [],
   "metadata": {}
  },
  {
   "cell_type": "code",
   "execution_count": 20,
   "source": [
    "#6. peak plot"
   ],
   "outputs": [],
   "metadata": {}
  },
  {
   "cell_type": "code",
   "execution_count": 21,
   "source": [
    "re_n = range(re_n)"
   ],
   "outputs": [],
   "metadata": {}
  },
  {
   "cell_type": "code",
   "execution_count": 22,
   "source": [
    "\r\n",
    "plt.subplot(3,1,3)\r\n",
    "plt.plot(re_n,re_data,re_n,peak_y,\"o\")\r\n",
    "plt.xlim((0,360))\r\n",
    "plt.ylim(1000)\r\n"
   ],
   "outputs": [
    {
     "output_type": "execute_result",
     "data": {
      "text/plain": [
       "(1000.0, 2849.765625)"
      ]
     },
     "metadata": {},
     "execution_count": 22
    },
    {
     "output_type": "display_data",
     "data": {
      "image/png": "[encoded data removed]",
      "text/plain": [
       "<Figure size 432x288 with 1 Axes>"
      ]
     },
     "metadata": {
      "needs_background": "light"
     }
    }
   ],
   "metadata": {}
  },
  {
   "cell_type": "code",
   "execution_count": 23,
   "source": [
    "#7. segment make\r\n"
   ],
   "outputs": [],
   "metadata": {}
  },
  {
   "cell_type": "code",
   "execution_count": 24,
   "source": [
    "#빠른방법인데 오류 \r\n",
    "'''\r\n",
    "seg =  np.zeros([peak.size,288])\r\n",
    "flag = -1\r\n",
    "for i in range(peak.size):\r\n",
    "    if (peak[i]-144 >= 0) or (peak[i]+144 < peak[-1]) :\r\n",
    "        r = peak[i]\r\n",
    "        seg[flag][144] = re_data[r]\r\n",
    "        flag += 1\r\n",
    "        for j in range(144):\r\n",
    "            seg[flag][144-j] = re_data[i-j]\r\n",
    "            seg[flag][144+j] = re_data[i+j]\r\n",
    "'''\r\n",
    "            \r\n",
    "            "
   ],
   "outputs": [
    {
     "output_type": "execute_result",
     "data": {
      "text/plain": [
       "'\\nseg =  np.zeros([peak.size,288])\\nflag = -1\\nfor i in range(peak.size):\\n    if (peak[i]-144 >= 0) or (peak[i]+144 < peak[-1]) :\\n        r = peak[i]\\n        seg[flag][144] = re_data[r]\\n        flag += 1\\n        for j in range(144):\\n            seg[flag][144-j] = re_data[i-j]\\n            seg[flag][144+j] = re_data[i+j]\\n'"
      ]
     },
     "metadata": {},
     "execution_count": 24
    }
   ],
   "metadata": {}
  },
  {
   "cell_type": "code",
   "execution_count": 25,
   "source": [
    "seg = []\r\n",
    "size = peak.size\r\n",
    "for i in range(size):\r\n",
    "    r = peak[i]\r\n",
    "\r\n",
    "    sepfrom = r-144\r\n",
    "    septo = r+144\r\n",
    "\r\n",
    "    if sepfrom <= 0:\r\n",
    "        continue\r\n",
    "    if septo >= peak[-1]:\r\n",
    "        break\r\n",
    "\r\n",
    "    seg.append(re_data[sepfrom:septo])"
   ],
   "outputs": [],
   "metadata": {}
  },
  {
   "cell_type": "code",
   "execution_count": 26,
   "source": [
    "# ※p파가 초반에만 보이고 안보임"
   ],
   "outputs": [],
   "metadata": {}
  },
  {
   "cell_type": "code",
   "execution_count": 27,
   "source": [
    "plt.plot(seg[0])"
   ],
   "outputs": [
    {
     "output_type": "execute_result",
     "data": {
      "text/plain": [
       "[<matplotlib.lines.Line2D at 0x221d94b4310>]"
      ]
     },
     "metadata": {},
     "execution_count": 27
    },
    {
     "output_type": "display_data",
     "data": {
      "image/png": "[encoded data removed]",
      "text/plain": [
       "<Figure size 432x288 with 1 Axes>"
      ]
     },
     "metadata": {
      "needs_background": "light"
     }
    }
   ],
   "metadata": {}
  },
  {
   "cell_type": "code",
   "execution_count": 28,
   "source": [
    "plt.plot(seg[30])"
   ],
   "outputs": [
    {
     "output_type": "execute_result",
     "data": {
      "text/plain": [
       "[<matplotlib.lines.Line2D at 0x221d8de5a30>]"
      ]
     },
     "metadata": {},
     "execution_count": 28
    },
    {
     "output_type": "display_data",
     "data": {
      "image/png": "[encoded data removed]",
      "text/plain": [
       "<Figure size 432x288 with 1 Axes>"
      ]
     },
     "metadata": {
      "needs_background": "light"
     }
    }
   ],
   "metadata": {}
  },
  {
   "cell_type": "code",
   "execution_count": 30,
   "source": [
    "plt.plot(seg[70])"
   ],
   "outputs": [
    {
     "output_type": "execute_result",
     "data": {
      "text/plain": [
       "[<matplotlib.lines.Line2D at 0x221d8b3fcd0>]"
      ]
     },
     "metadata": {},
     "execution_count": 30
    },
    {
     "output_type": "display_data",
     "data": {
      "image/png": "[encoded data removed]",
      "text/plain": [
       "<Figure size 432x288 with 1 Axes>"
      ]
     },
     "metadata": {
      "needs_background": "light"
     }
    }
   ],
   "metadata": {}
  },
  {
   "cell_type": "code",
   "execution_count": null,
   "source": [
    "df = pd.DataFrame(seg)"
   ],
   "outputs": [],
   "metadata": {}
  },
  {
   "cell_type": "code",
   "execution_count": null,
   "source": [
    "df=df.round(2)"
   ],
   "outputs": [],
   "metadata": {}
  },
  {
   "cell_type": "code",
   "execution_count": null,
   "source": [
    "df"
   ],
   "outputs": [
    {
     "output_type": "execute_result",
     "data": {
      "text/html": [
       "<div>\n",
       "<style scoped>\n",
       "    .dataframe tbody tr th:only-of-type {\n",
       "        vertical-align: middle;\n",
       "    }\n",
       "\n",
       "    .dataframe tbody tr th {\n",
       "        vertical-align: top;\n",
       "    }\n",
       "\n",
       "    .dataframe thead th {\n",
       "        text-align: right;\n",
       "    }\n",
       "</style>\n",
       "<table border=\"1\" class=\"dataframe\">\n",
       "  <thead>\n",
       "    <tr style=\"text-align: right;\">\n",
       "      <th></th>\n",
       "      <th>0</th>\n",
       "      <th>1</th>\n",
       "      <th>2</th>\n",
       "      <th>3</th>\n",
       "      <th>4</th>\n",
       "      <th>5</th>\n",
       "      <th>6</th>\n",
       "      <th>7</th>\n",
       "      <th>8</th>\n",
       "      <th>9</th>\n",
       "      <th>...</th>\n",
       "      <th>278</th>\n",
       "      <th>279</th>\n",
       "      <th>280</th>\n",
       "      <th>281</th>\n",
       "      <th>282</th>\n",
       "      <th>283</th>\n",
       "      <th>284</th>\n",
       "      <th>285</th>\n",
       "      <th>286</th>\n",
       "      <th>287</th>\n",
       "    </tr>\n",
       "  </thead>\n",
       "  <tbody>\n",
       "    <tr>\n",
       "      <th>0</th>\n",
       "      <td>1195.31</td>\n",
       "      <td>1195.31</td>\n",
       "      <td>1209.38</td>\n",
       "      <td>1209.38</td>\n",
       "      <td>1223.44</td>\n",
       "      <td>1209.38</td>\n",
       "      <td>1350.00</td>\n",
       "      <td>1335.94</td>\n",
       "      <td>1350.00</td>\n",
       "      <td>1364.06</td>\n",
       "      <td>...</td>\n",
       "      <td>1420.31</td>\n",
       "      <td>1420.31</td>\n",
       "      <td>1420.31</td>\n",
       "      <td>1420.31</td>\n",
       "      <td>1420.31</td>\n",
       "      <td>1406.25</td>\n",
       "      <td>1406.25</td>\n",
       "      <td>1406.25</td>\n",
       "      <td>1406.25</td>\n",
       "      <td>1406.25</td>\n",
       "    </tr>\n",
       "    <tr>\n",
       "      <th>1</th>\n",
       "      <td>1195.31</td>\n",
       "      <td>1181.25</td>\n",
       "      <td>1195.31</td>\n",
       "      <td>1209.38</td>\n",
       "      <td>1209.38</td>\n",
       "      <td>1293.75</td>\n",
       "      <td>1307.81</td>\n",
       "      <td>1321.88</td>\n",
       "      <td>1321.88</td>\n",
       "      <td>1335.94</td>\n",
       "      <td>...</td>\n",
       "      <td>1420.31</td>\n",
       "      <td>1420.31</td>\n",
       "      <td>1434.37</td>\n",
       "      <td>1448.44</td>\n",
       "      <td>1448.44</td>\n",
       "      <td>1420.31</td>\n",
       "      <td>1420.31</td>\n",
       "      <td>1420.31</td>\n",
       "      <td>1406.25</td>\n",
       "      <td>1420.31</td>\n",
       "    </tr>\n",
       "    <tr>\n",
       "      <th>2</th>\n",
       "      <td>1251.56</td>\n",
       "      <td>1279.69</td>\n",
       "      <td>1279.69</td>\n",
       "      <td>1279.69</td>\n",
       "      <td>1293.75</td>\n",
       "      <td>1476.56</td>\n",
       "      <td>1476.56</td>\n",
       "      <td>1490.62</td>\n",
       "      <td>1504.69</td>\n",
       "      <td>1504.69</td>\n",
       "      <td>...</td>\n",
       "      <td>1378.13</td>\n",
       "      <td>1392.19</td>\n",
       "      <td>1378.13</td>\n",
       "      <td>1378.13</td>\n",
       "      <td>1378.13</td>\n",
       "      <td>1378.13</td>\n",
       "      <td>1434.37</td>\n",
       "      <td>1420.31</td>\n",
       "      <td>1406.25</td>\n",
       "      <td>1406.25</td>\n",
       "    </tr>\n",
       "    <tr>\n",
       "      <th>3</th>\n",
       "      <td>1378.13</td>\n",
       "      <td>1378.13</td>\n",
       "      <td>1392.19</td>\n",
       "      <td>1406.25</td>\n",
       "      <td>1420.31</td>\n",
       "      <td>1420.31</td>\n",
       "      <td>1420.31</td>\n",
       "      <td>1434.37</td>\n",
       "      <td>1532.81</td>\n",
       "      <td>1532.81</td>\n",
       "      <td>...</td>\n",
       "      <td>1335.94</td>\n",
       "      <td>1335.94</td>\n",
       "      <td>1321.88</td>\n",
       "      <td>1321.88</td>\n",
       "      <td>1335.94</td>\n",
       "      <td>1335.94</td>\n",
       "      <td>1350.00</td>\n",
       "      <td>1350.00</td>\n",
       "      <td>1364.06</td>\n",
       "      <td>1335.94</td>\n",
       "    </tr>\n",
       "    <tr>\n",
       "      <th>4</th>\n",
       "      <td>1434.37</td>\n",
       "      <td>1448.44</td>\n",
       "      <td>1448.44</td>\n",
       "      <td>1462.50</td>\n",
       "      <td>1476.56</td>\n",
       "      <td>1532.81</td>\n",
       "      <td>1518.75</td>\n",
       "      <td>1518.75</td>\n",
       "      <td>1518.75</td>\n",
       "      <td>1518.75</td>\n",
       "      <td>...</td>\n",
       "      <td>1195.31</td>\n",
       "      <td>1195.31</td>\n",
       "      <td>1181.25</td>\n",
       "      <td>1195.31</td>\n",
       "      <td>1195.31</td>\n",
       "      <td>1209.38</td>\n",
       "      <td>1209.38</td>\n",
       "      <td>1209.38</td>\n",
       "      <td>1209.38</td>\n",
       "      <td>1195.31</td>\n",
       "    </tr>\n",
       "    <tr>\n",
       "      <th>...</th>\n",
       "      <td>...</td>\n",
       "      <td>...</td>\n",
       "      <td>...</td>\n",
       "      <td>...</td>\n",
       "      <td>...</td>\n",
       "      <td>...</td>\n",
       "      <td>...</td>\n",
       "      <td>...</td>\n",
       "      <td>...</td>\n",
       "      <td>...</td>\n",
       "      <td>...</td>\n",
       "      <td>...</td>\n",
       "      <td>...</td>\n",
       "      <td>...</td>\n",
       "      <td>...</td>\n",
       "      <td>...</td>\n",
       "      <td>...</td>\n",
       "      <td>...</td>\n",
       "      <td>...</td>\n",
       "      <td>...</td>\n",
       "      <td>...</td>\n",
       "    </tr>\n",
       "    <tr>\n",
       "      <th>76</th>\n",
       "      <td>1321.88</td>\n",
       "      <td>1321.88</td>\n",
       "      <td>1335.94</td>\n",
       "      <td>1335.94</td>\n",
       "      <td>1335.94</td>\n",
       "      <td>1335.94</td>\n",
       "      <td>1350.00</td>\n",
       "      <td>1364.06</td>\n",
       "      <td>1350.00</td>\n",
       "      <td>1350.00</td>\n",
       "      <td>...</td>\n",
       "      <td>1237.50</td>\n",
       "      <td>1237.50</td>\n",
       "      <td>1251.56</td>\n",
       "      <td>1265.62</td>\n",
       "      <td>1251.56</td>\n",
       "      <td>1265.62</td>\n",
       "      <td>1265.62</td>\n",
       "      <td>1265.62</td>\n",
       "      <td>1265.62</td>\n",
       "      <td>1279.69</td>\n",
       "    </tr>\n",
       "    <tr>\n",
       "      <th>77</th>\n",
       "      <td>1279.69</td>\n",
       "      <td>1293.75</td>\n",
       "      <td>1293.75</td>\n",
       "      <td>1307.81</td>\n",
       "      <td>1279.69</td>\n",
       "      <td>1279.69</td>\n",
       "      <td>1293.75</td>\n",
       "      <td>1293.75</td>\n",
       "      <td>1307.81</td>\n",
       "      <td>1307.81</td>\n",
       "      <td>...</td>\n",
       "      <td>1195.31</td>\n",
       "      <td>1195.31</td>\n",
       "      <td>1195.31</td>\n",
       "      <td>1195.31</td>\n",
       "      <td>1195.31</td>\n",
       "      <td>1195.31</td>\n",
       "      <td>1209.38</td>\n",
       "      <td>1223.44</td>\n",
       "      <td>1223.44</td>\n",
       "      <td>1209.38</td>\n",
       "    </tr>\n",
       "    <tr>\n",
       "      <th>78</th>\n",
       "      <td>1265.62</td>\n",
       "      <td>1265.62</td>\n",
       "      <td>1279.69</td>\n",
       "      <td>1279.69</td>\n",
       "      <td>1279.69</td>\n",
       "      <td>1265.62</td>\n",
       "      <td>1265.62</td>\n",
       "      <td>1279.69</td>\n",
       "      <td>1279.69</td>\n",
       "      <td>1279.69</td>\n",
       "      <td>...</td>\n",
       "      <td>1223.44</td>\n",
       "      <td>1223.44</td>\n",
       "      <td>1223.44</td>\n",
       "      <td>1237.50</td>\n",
       "      <td>1223.44</td>\n",
       "      <td>1237.50</td>\n",
       "      <td>1237.50</td>\n",
       "      <td>1237.50</td>\n",
       "      <td>1237.50</td>\n",
       "      <td>1237.50</td>\n",
       "    </tr>\n",
       "    <tr>\n",
       "      <th>79</th>\n",
       "      <td>1279.69</td>\n",
       "      <td>1279.69</td>\n",
       "      <td>1279.69</td>\n",
       "      <td>1293.75</td>\n",
       "      <td>1293.75</td>\n",
       "      <td>1279.69</td>\n",
       "      <td>1279.69</td>\n",
       "      <td>1279.69</td>\n",
       "      <td>1279.69</td>\n",
       "      <td>1293.75</td>\n",
       "      <td>...</td>\n",
       "      <td>1195.31</td>\n",
       "      <td>1209.38</td>\n",
       "      <td>1209.38</td>\n",
       "      <td>1209.38</td>\n",
       "      <td>1209.38</td>\n",
       "      <td>1209.38</td>\n",
       "      <td>1223.44</td>\n",
       "      <td>1223.44</td>\n",
       "      <td>1237.50</td>\n",
       "      <td>1237.50</td>\n",
       "    </tr>\n",
       "    <tr>\n",
       "      <th>80</th>\n",
       "      <td>1279.69</td>\n",
       "      <td>1279.69</td>\n",
       "      <td>1293.75</td>\n",
       "      <td>1279.69</td>\n",
       "      <td>1265.62</td>\n",
       "      <td>1279.69</td>\n",
       "      <td>1279.69</td>\n",
       "      <td>1279.69</td>\n",
       "      <td>1293.75</td>\n",
       "      <td>1279.69</td>\n",
       "      <td>...</td>\n",
       "      <td>1195.31</td>\n",
       "      <td>1181.25</td>\n",
       "      <td>1195.31</td>\n",
       "      <td>1209.38</td>\n",
       "      <td>1209.38</td>\n",
       "      <td>1209.38</td>\n",
       "      <td>1223.44</td>\n",
       "      <td>1223.44</td>\n",
       "      <td>1209.38</td>\n",
       "      <td>1223.44</td>\n",
       "    </tr>\n",
       "  </tbody>\n",
       "</table>\n",
       "<p>81 rows × 288 columns</p>\n",
       "</div>"
      ],
      "text/plain": [
       "        0        1        2        3        4        5        6        7    \\\n",
       "0   1195.31  1195.31  1209.38  1209.38  1223.44  1209.38  1350.00  1335.94   \n",
       "1   1195.31  1181.25  1195.31  1209.38  1209.38  1293.75  1307.81  1321.88   \n",
       "2   1251.56  1279.69  1279.69  1279.69  1293.75  1476.56  1476.56  1490.62   \n",
       "3   1378.13  1378.13  1392.19  1406.25  1420.31  1420.31  1420.31  1434.37   \n",
       "4   1434.37  1448.44  1448.44  1462.50  1476.56  1532.81  1518.75  1518.75   \n",
       "..      ...      ...      ...      ...      ...      ...      ...      ...   \n",
       "76  1321.88  1321.88  1335.94  1335.94  1335.94  1335.94  1350.00  1364.06   \n",
       "77  1279.69  1293.75  1293.75  1307.81  1279.69  1279.69  1293.75  1293.75   \n",
       "78  1265.62  1265.62  1279.69  1279.69  1279.69  1265.62  1265.62  1279.69   \n",
       "79  1279.69  1279.69  1279.69  1293.75  1293.75  1279.69  1279.69  1279.69   \n",
       "80  1279.69  1279.69  1293.75  1279.69  1265.62  1279.69  1279.69  1279.69   \n",
       "\n",
       "        8        9    ...      278      279      280      281      282  \\\n",
       "0   1350.00  1364.06  ...  1420.31  1420.31  1420.31  1420.31  1420.31   \n",
       "1   1321.88  1335.94  ...  1420.31  1420.31  1434.37  1448.44  1448.44   \n",
       "2   1504.69  1504.69  ...  1378.13  1392.19  1378.13  1378.13  1378.13   \n",
       "3   1532.81  1532.81  ...  1335.94  1335.94  1321.88  1321.88  1335.94   \n",
       "4   1518.75  1518.75  ...  1195.31  1195.31  1181.25  1195.31  1195.31   \n",
       "..      ...      ...  ...      ...      ...      ...      ...      ...   \n",
       "76  1350.00  1350.00  ...  1237.50  1237.50  1251.56  1265.62  1251.56   \n",
       "77  1307.81  1307.81  ...  1195.31  1195.31  1195.31  1195.31  1195.31   \n",
       "78  1279.69  1279.69  ...  1223.44  1223.44  1223.44  1237.50  1223.44   \n",
       "79  1279.69  1293.75  ...  1195.31  1209.38  1209.38  1209.38  1209.38   \n",
       "80  1293.75  1279.69  ...  1195.31  1181.25  1195.31  1209.38  1209.38   \n",
       "\n",
       "        283      284      285      286      287  \n",
       "0   1406.25  1406.25  1406.25  1406.25  1406.25  \n",
       "1   1420.31  1420.31  1420.31  1406.25  1420.31  \n",
       "2   1378.13  1434.37  1420.31  1406.25  1406.25  \n",
       "3   1335.94  1350.00  1350.00  1364.06  1335.94  \n",
       "4   1209.38  1209.38  1209.38  1209.38  1195.31  \n",
       "..      ...      ...      ...      ...      ...  \n",
       "76  1265.62  1265.62  1265.62  1265.62  1279.69  \n",
       "77  1195.31  1209.38  1223.44  1223.44  1209.38  \n",
       "78  1237.50  1237.50  1237.50  1237.50  1237.50  \n",
       "79  1209.38  1223.44  1223.44  1237.50  1237.50  \n",
       "80  1209.38  1223.44  1223.44  1209.38  1223.44  \n",
       "\n",
       "[81 rows x 288 columns]"
      ]
     },
     "metadata": {},
     "execution_count": 36
    }
   ],
   "metadata": {}
  },
  {
   "cell_type": "code",
   "execution_count": null,
   "source": [
    "#8. save segment\r\n",
    "def output_segment(dir):\r\n",
    "    if not os.path.exists(dir):\r\n",
    "        os.makedirs(dir)\r\n",
    "        for i in range(len(df.index)):\r\n",
    "            data = pd.DataFrame(df.iloc[i])\r\n",
    "            p = dir+\"\\\\\"+str(i)+\".csv\"\r\n",
    "            data.to_csv(p,header=False,index=False)\r\n",
    "\r\n"
   ],
   "outputs": [],
   "metadata": {}
  },
  {
   "cell_type": "code",
   "execution_count": null,
   "source": [
    "output_segment(output_path+\"\\\\no_p\")"
   ],
   "outputs": [],
   "metadata": {}
  },
  {
   "cell_type": "code",
   "execution_count": 37,
   "source": [
    "plt.plot(pd.read_csv(output_path+\"\\\\no_p\"+\"\\\\51.csv\"))"
   ],
   "outputs": [
    {
     "output_type": "execute_result",
     "data": {
      "text/plain": [
       "[<matplotlib.lines.Line2D at 0x221d9eef4f0>]"
      ]
     },
     "metadata": {},
     "execution_count": 37
    },
    {
     "output_type": "display_data",
     "data": {
      "image/png": "[encoded data removed]",
      "text/plain": [
       "<Figure size 432x288 with 1 Axes>"
      ]
     },
     "metadata": {
      "needs_background": "light"
     }
    }
   ],
   "metadata": {}
  }
 ],
 "metadata": {
  "orig_nbformat": 4,
  "language_info": {
   "name": "python",
   "version": "3.9.4",
   "mimetype": "text/x-python",
   "codemirror_mode": {
    "name": "ipython",
    "version": 3
   },
   "pygments_lexer": "ipython3",
   "nbconvert_exporter": "python",
   "file_extension": ".py"
  },
  "kernelspec": {
   "name": "python3",
   "display_name": "Python 3.9.4 64-bit"
  },
  "interpreter": {
   "hash": "a72bf8c18fe34c256e62d5a8e3c0753d9a1ad2892f47d3f35531e6326883f369"
  }
 },
 "nbformat": 4,
 "nbformat_minor": 2
}