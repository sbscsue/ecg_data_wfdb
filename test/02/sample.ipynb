{
 "cells": [
  {
   "cell_type": "code",
   "execution_count": 1,
   "source": [
    "import numpy as np\r\n",
    "import matplotlib.pyplot as plt\r\n",
    "import pandas as pd \r\n",
    "\r\n",
    "import tensorflow as tf\r\n",
    "import keras as kr\r\n",
    "\r\n",
    "import os \r\n",
    "from os import getcwd\r\n",
    "from os.path import dirname,abspath\r\n",
    "import pathlib as pl\r\n",
    "\r\n",
    "import sys\r\n",
    "\r\n",
    "home_path = \"C:\\\\sebin\\\\ecg\"\r\n",
    "git_path = home_path+\"\\\\ecg_data_wfdb\"\r\n",
    "\r\n",
    "sys.path.append(git_path)\r\n",
    "from use.segment.open import ecgtodf"
   ],
   "outputs": [],
   "metadata": {}
  },
  {
   "cell_type": "code",
   "execution_count": 4,
   "source": [
    "model = kr.models.load_model(\"C:\\\\sebin\\\\ecg\\\\ecg_data_wfdb\\\\model\\\\save\\\\02.h5\")"
   ],
   "outputs": [],
   "metadata": {}
  }
 ],
 "metadata": {
  "orig_nbformat": 4,
  "language_info": {
   "name": "python",
   "version": "3.9.4",
   "mimetype": "text/x-python",
   "codemirror_mode": {
    "name": "ipython",
    "version": 3
   },
   "pygments_lexer": "ipython3",
   "nbconvert_exporter": "python",
   "file_extension": ".py"
  },
  "kernelspec": {
   "name": "python3",
   "display_name": "Python 3.9.4 64-bit"
  },
  "interpreter": {
   "hash": "a72bf8c18fe34c256e62d5a8e3c0753d9a1ad2892f47d3f35531e6326883f369"
  }
 },
 "nbformat": 4,
 "nbformat_minor": 2
}