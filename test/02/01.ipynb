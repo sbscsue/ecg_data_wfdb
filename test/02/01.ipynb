{
 "cells": [
  {
   "cell_type": "code",
   "execution_count": 3,
   "source": [
    "import numpy as np\r\n",
    "import matplotlib.pyplot as plt\r\n",
    "import pandas as pd \r\n",
    "\r\n",
    "import tensorflow as tf\r\n",
    "import keras as kr\r\n",
    "\r\n",
    "from keras import Sequential\r\n",
    "from keras.layers import Conv1D,MaxPooling1D,Flatten,Dense\r\n",
    "\r\n",
    "import os \r\n",
    "from os import getcwd\r\n",
    "from os.path import dirname,abspath\r\n",
    "import sys\r\n",
    "import pickle \r\n",
    "\r\n",
    "sys.path.append(dirname(abspath(dirname(getcwd()))))\r\n",
    "from use.segment import open,random\r\n",
    "\r\n",
    "home_path = \"C:\\\\sebin\\\\ecg\\\\ecg_data_wfdb\"\r\n",
    "file_path = \"\\\\model\\\\save\\\\02.h5\"\r\n"
   ],
   "outputs": [],
   "metadata": {}
  },
  {
   "cell_type": "code",
   "execution_count": 4,
   "source": [
    "model = kr.models.load_model(homne_path+file_path)"
   ],
   "outputs": [],
   "metadata": {}
  }
 ],
 "metadata": {
  "orig_nbformat": 4,
  "language_info": {
   "name": "python",
   "version": "3.9.4",
   "mimetype": "text/x-python",
   "codemirror_mode": {
    "name": "ipython",
    "version": 3
   },
   "pygments_lexer": "ipython3",
   "nbconvert_exporter": "python",
   "file_extension": ".py"
  },
  "kernelspec": {
   "name": "python3",
   "display_name": "Python 3.9.4 64-bit"
  },
  "interpreter": {
   "hash": "a72bf8c18fe34c256e62d5a8e3c0753d9a1ad2892f47d3f35531e6326883f369"
  }
 },
 "nbformat": 4,
 "nbformat_minor": 2
}