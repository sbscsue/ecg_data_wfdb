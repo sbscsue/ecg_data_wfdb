{
 "cells": [
  {
   "cell_type": "markdown",
   "metadata": {},
   "source": [
    "# 결과 0622"
   ]
  },
  {
   "cell_type": "markdown",
   "metadata": {},
   "source": [
    "## confusion metrix"
   ]
  },
  {
   "cell_type": "markdown",
   "metadata": {},
   "source": [
    "### 전체(matrix)"
   ]
  },
  {
   "cell_type": "code",
   "execution_count": null,
   "metadata": {},
   "outputs": [
    {
     "name": "stdout",
     "output_type": "stream",
     "text": [
      "0\n",
      "0epochs\n",
      "[[1950   20   30]\n",
      " [  45  428   27]\n",
      " [  21    9 1370]]\n",
      "10epochs\n",
      "[[1981   10    9]\n",
      " [  60  427   13]\n",
      " [  25    7 1368]]\n",
      "20epochs\n",
      "[[1967   18   15]\n",
      " [  32  461    7]\n",
      " [   9   10 1381]]\n",
      "30epochs\n",
      "[[1973   13   14]\n",
      " [  28  464    8]\n",
      " [  14    9 1377]]\n",
      "40epochs\n",
      "[[1932   46   22]\n",
      " [  15  479    6]\n",
      " [   7    9 1384]]\n",
      "50epochs\n",
      "[[1973   10   17]\n",
      " [  30  464    6]\n",
      " [  16    8 1376]]\n",
      "60epochs\n",
      "[[1969   15   16]\n",
      " [  23  470    7]\n",
      " [  15    7 1378]]\n",
      "70epochs\n",
      "[[1957   24   19]\n",
      " [  22  471    7]\n",
      " [  13    9 1378]]\n",
      "80epochs\n",
      "[[1980    8   12]\n",
      " [  39  455    6]\n",
      " [  15    5 1380]]\n",
      "90epochs\n",
      "[[1972    9   19]\n",
      " [  32  460    8]\n",
      " [  10    9 1381]]\n",
      "1\n",
      "0epochs\n",
      "[[1880   96   24]\n",
      " [  33  452   15]\n",
      " [  21    8 1371]]\n",
      "10epochs\n",
      "[[1956   31   13]\n",
      " [  40  446   14]\n",
      " [  22    2 1376]]\n",
      "20epochs\n",
      "[[1972   21    7]\n",
      " [  39  451   10]\n",
      " [  22    2 1376]]\n",
      "30epochs\n",
      "[[1968   21   11]\n",
      " [  44  436   20]\n",
      " [  22    1 1377]]\n",
      "40epochs\n",
      "[[1956   36    8]\n",
      " [  27  466    7]\n",
      " [  20    5 1375]]\n",
      "50epochs\n",
      "[[1955   29   16]\n",
      " [  26  457   17]\n",
      " [  14    4 1382]]\n",
      "60epochs\n",
      "[[1966   24   10]\n",
      " [  31  463    6]\n",
      " [  17    2 1381]]\n",
      "70epochs\n",
      "[[1959   27   14]\n",
      " [  24  469    7]\n",
      " [  13    3 1384]]\n",
      "80epochs\n",
      "[[1966   23   11]\n",
      " [  27  466    7]\n",
      " [  17    4 1379]]\n",
      "90epochs\n",
      "[[1964   24   12]\n",
      " [  27  464    9]\n",
      " [  14    3 1383]]\n",
      "2\n",
      "0epochs\n",
      "[[1944   24   32]\n",
      " [  49  436   15]\n",
      " [  26    3 1371]]\n",
      "10epochs\n",
      "[[1975   14   11]\n",
      " [  64  434    2]\n",
      " [  35    6 1359]]\n",
      "20epochs\n",
      "[[1943   38   19]\n",
      " [  28  468    4]\n",
      " [  19    6 1375]]\n",
      "30epochs\n",
      "[[1951   27   22]\n",
      " [  31  463    6]\n",
      " [  15    5 1380]]\n",
      "40epochs\n",
      "[[1954   34   12]\n",
      " [  33  464    3]\n",
      " [  22    9 1369]]\n",
      "50epochs\n",
      "[[1967   23   10]\n",
      " [  32  464    4]\n",
      " [  24    7 1369]]\n",
      "60epochs\n",
      "[[1959   24   17]\n",
      " [  32  464    4]\n",
      " [  22    6 1372]]\n",
      "70epochs\n",
      "[[1939   41   20]\n",
      " [  22  474    4]\n",
      " [  17    9 1374]]\n",
      "80epochs\n",
      "[[1965   25   10]\n",
      " [  32  464    4]\n",
      " [  25    7 1368]]\n",
      "90epochs\n",
      "[[1951   34   15]\n",
      " [  25  471    4]\n",
      " [  20   10 1370]]\n",
      "3\n",
      "0epochs\n",
      "[[1957   20   23]\n",
      " [  58  408   34]\n",
      " [  27    4 1369]]\n",
      "10epochs\n",
      "[[1967   19   14]\n",
      " [  36  449   15]\n",
      " [  19    9 1372]]\n",
      "20epochs\n",
      "[[1965   24   11]\n",
      " [  31  456   13]\n",
      " [  24    7 1369]]\n",
      "30epochs\n",
      "[[1974   16   10]\n",
      " [  35  454   11]\n",
      " [  33   14 1353]]\n",
      "40epochs\n",
      "[[1958   31   11]\n",
      " [  26  460   14]\n",
      " [  23    6 1371]]\n",
      "50epochs\n",
      "[[1970   17   13]\n",
      " [  37  449   14]\n",
      " [  30    4 1366]]\n",
      "60epochs\n",
      "[[1967   17   16]\n",
      " [  42  436   22]\n",
      " [  20    1 1379]]\n",
      "70epochs\n",
      "[[1958   29   13]\n",
      " [  35  448   17]\n",
      " [  22    3 1375]]\n",
      "80epochs\n",
      "[[1976   13   11]\n",
      " [  48  435   17]\n",
      " [  22    3 1375]]\n",
      "90epochs\n",
      "[[1969   13   18]\n",
      " [  34  447   19]\n",
      " [  17    0 1383]]\n",
      "4\n",
      "0epochs\n",
      "[[1969    7   24]\n",
      " [  81  392   27]\n",
      " [  15    6 1379]]\n",
      "10epochs\n",
      "[[1932   45   23]\n",
      " [  29  459   12]\n",
      " [   8   12 1380]]\n",
      "20epochs\n",
      "[[1962   18   20]\n",
      " [  48  442   10]\n",
      " [  15    9 1376]]\n",
      "30epochs\n",
      "[[1973   11   16]\n",
      " [  55  435   10]\n",
      " [  16   10 1374]]\n",
      "40epochs\n",
      "[[1953   28   19]\n",
      " [  48  443    9]\n",
      " [  10    9 1381]]\n",
      "50epochs\n",
      "[[1955   29   16]\n",
      " [  36  453   11]\n",
      " [  14   10 1376]]\n",
      "60epochs\n",
      "[[1942   36   22]\n",
      " [  34  456   10]\n",
      " [  10   13 1377]]\n",
      "70epochs\n",
      "[[1939   31   30]\n",
      " [  36  451   13]\n",
      " [   9    7 1384]]\n",
      "80epochs\n",
      "[[1939   39   22]\n",
      " [  44  446   10]\n",
      " [  15   10 1375]]\n",
      "90epochs\n",
      "[[1951   31   18]\n",
      " [  42  450    8]\n",
      " [  12   12 1376]]\n"
     ]
    }
   ],
   "source": [
    "for i in range(len(confunsionSet)):\n",
    "    print(\"{}\".format(i))\n",
    "    for j in range(10):\n",
    "        print(\"{}epochs\".format(j*10))\n",
    "        print(confunsionSet[i][j])\n"
   ]
  },
  {
   "cell_type": "code",
   "execution_count": null,
   "metadata": {},
   "outputs": [
    {
     "data": {
      "text/plain": [
       "5"
      ]
     },
     "metadata": {},
     "output_type": "display_data"
    }
   ],
   "source": [
    "len(confunsionSet)"
   ]
  },
  {
   "cell_type": "code",
   "execution_count": null,
   "metadata": {},
   "outputs": [
    {
     "data": {
      "text/plain": [
       "<AxesSubplot:>"
      ]
     },
     "metadata": {},
     "output_type": "display_data"
    },
    {
     "data": {
      "image/png": "[encoded data removed]",
      "text/plain": [
       "<Figure size 432x288 with 2 Axes>"
      ]
     },
     "metadata": {},
     "output_type": "display_data"
    }
   ],
   "source": [
    "heatmap(confunsionSet[0][3],annot=True,cmap='flare',xticklabels=['N','S','V'],yticklabels=['N','S','V'],fmt='.1f')"
   ]
  },
  {
   "cell_type": "markdown",
   "metadata": {},
   "source": [
    "### 전체(sbeat)"
   ]
  },
  {
   "cell_type": "code",
   "execution_count": null,
   "metadata": {},
   "outputs": [
    {
     "name": "stdout",
     "output_type": "stream",
     "text": [
      "0\n",
      "0epochs\t428\t0.856\n",
      "10epochs\t427\t0.854\n",
      "20epochs\t461\t0.922\n",
      "30epochs\t464\t0.928\n",
      "40epochs\t479\t0.958\n",
      "50epochs\t464\t0.928\n",
      "60epochs\t470\t0.94\n",
      "70epochs\t471\t0.942\n",
      "80epochs\t455\t0.91\n",
      "90epochs\t460\t0.92\n",
      "1\n",
      "0epochs\t452\t0.904\n",
      "10epochs\t446\t0.892\n",
      "20epochs\t451\t0.902\n",
      "30epochs\t436\t0.872\n",
      "40epochs\t466\t0.932\n",
      "50epochs\t457\t0.914\n",
      "60epochs\t463\t0.926\n",
      "70epochs\t469\t0.938\n",
      "80epochs\t466\t0.932\n",
      "90epochs\t464\t0.928\n",
      "2\n",
      "0epochs\t436\t0.872\n",
      "10epochs\t434\t0.868\n",
      "20epochs\t468\t0.936\n",
      "30epochs\t463\t0.926\n",
      "40epochs\t464\t0.928\n",
      "50epochs\t464\t0.928\n",
      "60epochs\t464\t0.928\n",
      "70epochs\t474\t0.948\n",
      "80epochs\t464\t0.928\n",
      "90epochs\t471\t0.942\n",
      "3\n",
      "0epochs\t408\t0.816\n",
      "10epochs\t449\t0.898\n",
      "20epochs\t456\t0.912\n",
      "30epochs\t454\t0.908\n",
      "40epochs\t460\t0.92\n",
      "50epochs\t449\t0.898\n",
      "60epochs\t436\t0.872\n",
      "70epochs\t448\t0.896\n",
      "80epochs\t435\t0.87\n",
      "90epochs\t447\t0.894\n",
      "4\n",
      "0epochs\t392\t0.784\n",
      "10epochs\t459\t0.918\n",
      "20epochs\t442\t0.884\n",
      "30epochs\t435\t0.87\n",
      "40epochs\t443\t0.886\n",
      "50epochs\t453\t0.906\n",
      "60epochs\t456\t0.912\n",
      "70epochs\t451\t0.902\n",
      "80epochs\t446\t0.892\n",
      "90epochs\t450\t0.9\n"
     ]
    }
   ],
   "source": [
    "for i in range(len(confunsionSet)):\n",
    "    print(\"{}\".format(i))\n",
    "    for j in range(10):\n",
    "        print(\"{}epochs\".format(j*10),end=\"\\t\")\n",
    "        print(confunsionSet[i][j][1][1],end=\"\\t\")\n",
    "        print(confunsionSet[i][j][1][1]/500)\n"
   ]
  },
  {
   "cell_type": "markdown",
   "metadata": {},
   "source": [
    "### S_beat acc _ MEAN(by epochs)"
   ]
  },
  {
   "cell_type": "code",
   "execution_count": null,
   "metadata": {},
   "outputs": [
    {
     "name": "stdout",
     "output_type": "stream",
     "text": [
      "0\n",
      "------------------------\n",
      "0\n",
      "428\n",
      "1\n",
      "452\n",
      "2\n",
      "436\n",
      "3\n",
      "408\n",
      "4\n",
      "392\n",
      "========================\n",
      "1\n",
      "------------------------\n",
      "0\n",
      "427\n",
      "1\n",
      "446\n",
      "2\n",
      "434\n",
      "3\n",
      "449\n",
      "4\n",
      "459\n",
      "========================\n",
      "2\n",
      "------------------------\n",
      "0\n",
      "461\n",
      "1\n",
      "451\n",
      "2\n",
      "468\n",
      "3\n",
      "456\n",
      "4\n",
      "442\n",
      "========================\n",
      "3\n",
      "------------------------\n",
      "0\n",
      "464\n",
      "1\n",
      "436\n",
      "2\n",
      "463\n",
      "3\n",
      "454\n",
      "4\n",
      "435\n",
      "========================\n",
      "4\n",
      "------------------------\n",
      "0\n",
      "479\n",
      "1\n",
      "466\n",
      "2\n",
      "464\n",
      "3\n",
      "460\n",
      "4\n",
      "443\n",
      "========================\n",
      "5\n",
      "------------------------\n",
      "0\n",
      "464\n",
      "1\n",
      "457\n",
      "2\n",
      "464\n",
      "3\n",
      "449\n",
      "4\n",
      "453\n",
      "========================\n",
      "6\n",
      "------------------------\n",
      "0\n",
      "470\n",
      "1\n",
      "463\n",
      "2\n",
      "464\n",
      "3\n",
      "436\n",
      "4\n",
      "456\n",
      "========================\n",
      "7\n",
      "------------------------\n",
      "0\n",
      "471\n",
      "1\n",
      "469\n",
      "2\n",
      "474\n",
      "3\n",
      "448\n",
      "4\n",
      "451\n",
      "========================\n",
      "8\n",
      "------------------------\n",
      "0\n",
      "455\n",
      "1\n",
      "466\n",
      "2\n",
      "464\n",
      "3\n",
      "435\n",
      "4\n",
      "446\n",
      "========================\n",
      "9\n",
      "------------------------\n",
      "0\n",
      "460\n",
      "1\n",
      "464\n",
      "2\n",
      "471\n",
      "3\n",
      "447\n",
      "4\n",
      "450\n",
      "========================\n"
     ]
    }
   ],
   "source": [
    "confusionMean = []\n",
    "for i in range(10):\n",
    "    print(i)\n",
    "    print(\"------------------------\")\n",
    "    tmp = 0\n",
    "    for j in range(len(confunsionSet)):\n",
    "        print(j)\n",
    "        print(confunsionSet[j][i][1][1])\n",
    "        tmp += confunsionSet[j][i][1][1]\n",
    "    confusionMean.append(tmp)\n",
    "    print(\"========================\")\n"
   ]
  },
  {
   "cell_type": "code",
   "execution_count": null,
   "metadata": {},
   "outputs": [
    {
     "name": "stdout",
     "output_type": "stream",
     "text": [
      "[2116, 2215, 2278, 2252, 2312, 2287, 2289, 2313, 2266, 2292]\n"
     ]
    }
   ],
   "source": [
    "print(confusionMean)"
   ]
  },
  {
   "cell_type": "code",
   "execution_count": null,
   "metadata": {},
   "outputs": [
    {
     "name": "stdout",
     "output_type": "stream",
     "text": [
      "0.8464\t0.886\t0.9112\t0.9008\t0.9248\t0.9148\t0.9156\t0.9252\t0.9064\t0.9168\t"
     ]
    }
   ],
   "source": [
    "for i in range(len(confusionMean)):\n",
    "    print(confusionMean[i]/(2500),end=\"\\t\")"
   ]
  },
  {
   "cell_type": "markdown",
   "metadata": {},
   "source": [
    "### S_beat acc _ MAX(by epochs) "
   ]
  },
  {
   "cell_type": "code",
   "execution_count": null,
   "metadata": {},
   "outputs": [
    {
     "name": "stdout",
     "output_type": "stream",
     "text": [
      "index[0, 4]: 479\n"
     ]
    }
   ],
   "source": [
    "tmp = 0\n",
    "index = None\n",
    "for i in range(10):\n",
    "    for j in range(len(confunsionSet)):\n",
    "        if(tmp < confunsionSet[j][i][1][1]):\n",
    "            tmp = confunsionSet[j][i][1][1]\n",
    "            index = [j,i]\n",
    "\n",
    "print(\"index{}: {}\".format(index,tmp))\n"
   ]
  }
 ],
 "metadata": {
  "kernelspec": {
   "display_name": "Python 3.9.4 64-bit",
   "language": "python",
   "name": "python3"
  },
  "language_info": {
   "codemirror_mode": {
    "name": "ipython",
    "version": 3
   },
   "file_extension": ".py",
   "mimetype": "text/x-python",
   "name": "python",
   "nbconvert_exporter": "python",
   "pygments_lexer": "ipython3",
   "version": "3.9.4"
  },
  "orig_nbformat": 4,
  "vscode": {
   "interpreter": {
    "hash": "67358abccae8f21e366e0df2faaa29643d1142b037dcac2c2cc4f43bb6d33607"
   }
  }
 },
 "nbformat": 4,
 "nbformat_minor": 2
}
