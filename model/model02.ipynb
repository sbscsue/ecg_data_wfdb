{
 "cells": [
  {
   "cell_type": "code",
   "execution_count": null,
   "source": [
    "import numpy as np\r\n",
    "import matplotlib.pyplot as plt\r\n",
    "import pandas as pd \r\n",
    "\r\n",
    "import tensorflow as tf\r\n",
    "import keras as kr\r\n",
    "\r\n",
    "from keras import Sequential\r\n",
    "from keras.layers import Conv1D,MaxPooling1D,Flatten,Dense\r\n",
    "\r\n",
    "import os \r\n",
    "import sys\r\n",
    "import pickle \r\n",
    "\r\n",
    "\r\n",
    "sys.path.append(\"C:\\\\seb\\\\ecg_detection\\\\ecg_data_wfdb\")\r\n",
    "from use.datamake import ecg_dataframe\r\n"
   ],
   "outputs": [],
   "metadata": {}
  }
 ],
 "metadata": {
  "orig_nbformat": 4,
  "language_info": {
   "name": "python"
  }
 },
 "nbformat": 4,
 "nbformat_minor": 2
}